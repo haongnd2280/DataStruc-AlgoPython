{
 "cells": [
  {
   "cell_type": "markdown",
   "id": "rubber-bankruptcy",
   "metadata": {},
   "source": [
    "## Reinforcement"
   ]
  },
  {
   "cell_type": "markdown",
   "id": "understanding-heading",
   "metadata": {},
   "source": [
    "### 1.1. Viết một hàm Python, is_multiple(n, m) nhận hai giá trị nguyên, trả về True nếu n là bội số của m (tức n = mi với i nguyên), ngược lại thì trả về False."
   ]
  },
  {
   "cell_type": "markdown",
   "id": "verbal-boutique",
   "metadata": {},
   "source": [
    "Chú ý: Ta sẽ chỉ sử dụng bốn phép toán cơ bản, không sử dụng bất kỳ hàm có sẵn nào."
   ]
  },
  {
   "cell_type": "markdown",
   "id": "automated-leisure",
   "metadata": {},
   "source": [
    "Ý tưởng: Nếu n = mi thì n sẽ bằng i lần cộng lại của m. Nói cách khác, m cộng với chính nó i lần thì sẽ bằng n. Vì vậy, ta sẽ sử dụng vòng lặp while để cộng m với chính nó, cho đến khi m >= n thì dừng. Sau đó, so sánh m với n, nếu m bằng n thì True, ngược lại thì False."
   ]
  },
  {
   "cell_type": "code",
   "execution_count": null,
   "id": "australian-brief",
   "metadata": {},
   "outputs": [],
   "source": [
    "def is_multiple(n, m): \n",
    "    value = m \n",
    "    while value < n: \n",
    "        value += m \n",
    "        \n",
    "    if value == n: \n",
    "        return True \n",
    "    \n",
    "    return False"
   ]
  },
  {
   "cell_type": "code",
   "execution_count": 3,
   "id": "arbitrary-motorcycle",
   "metadata": {},
   "outputs": [
    {
     "data": {
      "text/plain": [
       "True"
      ]
     },
     "execution_count": 3,
     "metadata": {},
     "output_type": "execute_result"
    }
   ],
   "source": [
    "is_multiple(50, 2)"
   ]
  },
  {
   "cell_type": "code",
   "execution_count": 4,
   "id": "proprietary-lighting",
   "metadata": {},
   "outputs": [
    {
     "data": {
      "text/plain": [
       "False"
      ]
     },
     "execution_count": 4,
     "metadata": {},
     "output_type": "execute_result"
    }
   ],
   "source": [
    "is_multiple(50, 3)"
   ]
  },
  {
   "cell_type": "markdown",
   "id": "abroad-system",
   "metadata": {},
   "source": [
    "### 1.2. Viết hàm is_even(k), nhận một giá trị nguyên, trả về True nếu k chẵn, ngược lại trả về False. Không được sử dụng phép nhân, modulo, hoặc division."
   ]
  },
  {
   "cell_type": "markdown",
   "id": "spoken-rescue",
   "metadata": {},
   "source": [
    "Ý tưởng: trừ liên tiếp k cho 2, đến khi k <= 0 thì dừng. Khi đó, nếu k = 0 thì k chẵn, nếu k < 0 (cụ thể là bằng -1) thì k lẻ."
   ]
  },
  {
   "cell_type": "code",
   "execution_count": 5,
   "id": "alien-israel",
   "metadata": {},
   "outputs": [],
   "source": [
    "def is_even(k): \n",
    "    while k > 0: \n",
    "        k -= 2 \n",
    "        \n",
    "    if k == 0: \n",
    "        return True \n",
    "    \n",
    "    return False"
   ]
  },
  {
   "cell_type": "code",
   "execution_count": 6,
   "id": "saving-caribbean",
   "metadata": {},
   "outputs": [
    {
     "data": {
      "text/plain": [
       "False"
      ]
     },
     "execution_count": 6,
     "metadata": {},
     "output_type": "execute_result"
    }
   ],
   "source": [
    "is_even(11)"
   ]
  },
  {
   "cell_type": "code",
   "execution_count": 7,
   "id": "attended-verse",
   "metadata": {},
   "outputs": [
    {
     "data": {
      "text/plain": [
       "True"
      ]
     },
     "execution_count": 7,
     "metadata": {},
     "output_type": "execute_result"
    }
   ],
   "source": [
    "is_even(100)"
   ]
  },
  {
   "cell_type": "markdown",
   "id": "contained-stick",
   "metadata": {},
   "source": [
    "- Nhận xét: Qua hai ví dụ trên, ta thấy được rằng bản chất của phép nhân là các phép cộng liên tiếp một số với chính nó một số lần, còn bản chất của phép chia là các phép trừ liên tiếp một số cho một số khác."
   ]
  },
  {
   "cell_type": "markdown",
   "id": "documentary-gibraltar",
   "metadata": {},
   "source": [
    "## Creativity"
   ]
  },
  {
   "cell_type": "markdown",
   "id": "large-listing",
   "metadata": {},
   "source": [
    "1.13. Viết một hàm đảo ngược một list gồm n số nguyên, rối so sánh với hàm Python tương ứng."
   ]
  },
  {
   "cell_type": "markdown",
   "id": "nominated-forge",
   "metadata": {},
   "source": [
    "Ý tưởng: sử dụng vòng lặp for đi từ 1 đến n / 2, rồi hoán đổi vị trí phần tử i và phần tử n - i cho nhau. Bài này không cần chia trường hợp về độ dài của list."
   ]
  },
  {
   "cell_type": "code",
   "execution_count": 27,
   "id": "little-garage",
   "metadata": {},
   "outputs": [],
   "source": [
    "def inverse_list(array): \n",
    "    n = len(array)\n",
    "    \n",
    "    for i in range(n // 2):\n",
    "        array[i], array[n - i - 1] = array[n - i - 1], array[i]  # multiple assignment. \n",
    "        \n",
    "    return array"
   ]
  },
  {
   "cell_type": "code",
   "execution_count": 28,
   "id": "demographic-restaurant",
   "metadata": {},
   "outputs": [
    {
     "data": {
      "text/plain": [
       "[4, 3, 2, 1]"
      ]
     },
     "execution_count": 28,
     "metadata": {},
     "output_type": "execute_result"
    }
   ],
   "source": [
    "inverse_list([1, 2, 3, 4])"
   ]
  },
  {
   "cell_type": "markdown",
   "id": "conditional-attention",
   "metadata": {},
   "source": [
    "1.14. Viết một hàm Python nhận một dãy các giá trị nguyên, và xác định xem liệu có tồn tại một cặp số phân biệt trong dãy mà tích của chúng là một số lẻ hay không."
   ]
  },
  {
   "cell_type": "markdown",
   "id": "tight-guitar",
   "metadata": {},
   "source": [
    "Ý tưởng: \n",
    "- Duyệt hết các cặp số khác nhau có thể có theo trình tự tuyến tính bằng cách sử dụng hai vòng lặp for lồng nhau."
   ]
  },
  {
   "cell_type": "code",
   "execution_count": 18,
   "id": "choice-dictionary",
   "metadata": {},
   "outputs": [],
   "source": [
    "def odd_product(numbers): \n",
    "    n = len(numbers)\n",
    "    \n",
    "    pairs = []\n",
    "    for i in range(n): \n",
    "        for j in range(i + 1, n): \n",
    "            if (numbers[i] * numbers[j]) % 2 == 1: \n",
    "                pairs.append((numbers[i], numbers[j]))\n",
    "    \n",
    "    return pairs"
   ]
  },
  {
   "cell_type": "code",
   "execution_count": 19,
   "id": "marine-multiple",
   "metadata": {},
   "outputs": [
    {
     "data": {
      "text/plain": [
       "[(1, 3), (1, 7), (1, 9), (3, 7), (3, 9), (7, 9)]"
      ]
     },
     "execution_count": 19,
     "metadata": {},
     "output_type": "execute_result"
    }
   ],
   "source": [
    "odd_product([1, 4, 6, 3, 7, 9])"
   ]
  },
  {
   "cell_type": "markdown",
   "id": "finnish-ticket",
   "metadata": {},
   "source": [
    "1.15. Viết một hàm nhận một dãy các số và xác định xem liệu tất cả các số là đôi một khác nhau không."
   ]
  },
  {
   "cell_type": "markdown",
   "id": "precious-acrobat",
   "metadata": {},
   "source": [
    "Ý tưởng: cần duyệt hết tất cả các cặp số khác nhau có thể có bằng hai vòng lặp for lồng nhau. Nếu có hai số nào bằng nhau thì return False, ngược lại thì True."
   ]
  },
  {
   "cell_type": "code",
   "execution_count": 21,
   "id": "experimental-temperature",
   "metadata": {},
   "outputs": [],
   "source": [
    "def distinct_numbers(numbers): \n",
    "    n = len(numbers)\n",
    "    \n",
    "    for i in range(n): \n",
    "        for j in range(i + 1, n): \n",
    "            if numbers[i] == numbers[j]: \n",
    "                return False\n",
    "            \n",
    "    return True "
   ]
  },
  {
   "cell_type": "code",
   "execution_count": 22,
   "id": "higher-gender",
   "metadata": {},
   "outputs": [
    {
     "data": {
      "text/plain": [
       "False"
      ]
     },
     "execution_count": 22,
     "metadata": {},
     "output_type": "execute_result"
    }
   ],
   "source": [
    "distinct_numbers([1, 4, 8, 2, 4, 1, 3])"
   ]
  },
  {
   "cell_type": "code",
   "execution_count": 23,
   "id": "different-enzyme",
   "metadata": {},
   "outputs": [
    {
     "data": {
      "text/plain": [
       "True"
      ]
     },
     "execution_count": 23,
     "metadata": {},
     "output_type": "execute_result"
    }
   ],
   "source": [
    "distinct_numbers([1, 2, 3, 6, 8, 0])"
   ]
  },
  {
   "cell_type": "markdown",
   "id": "acoustic-device",
   "metadata": {},
   "source": [
    "## Các bài tập sưu tầm: "
   ]
  },
  {
   "cell_type": "markdown",
   "id": "rapid-iceland",
   "metadata": {},
   "source": [
    "1. Viết hàm đảo ngược một số nguyên dương n, chỉ sử dụng bốn phép toán cơ bản."
   ]
  },
  {
   "cell_type": "code",
   "execution_count": 26,
   "id": "ruled-carter",
   "metadata": {},
   "outputs": [],
   "source": [
    "def numInverse(x): \n",
    "    y = 0                       # khởi tạo số đảo ngược\n",
    "    while (x != 0): \n",
    "        y = y * 10 + (x % 10)   # phép chia lấy phần dư \n",
    "        x = x // 10             # phép chia lấy phần nguyên\n",
    "    \n",
    "    return y   "
   ]
  },
  {
   "cell_type": "code",
   "execution_count": null,
   "id": "funded-cocktail",
   "metadata": {},
   "outputs": [],
   "source": []
  },
  {
   "cell_type": "code",
   "execution_count": null,
   "id": "raising-alabama",
   "metadata": {},
   "outputs": [],
   "source": []
  },
  {
   "cell_type": "markdown",
   "id": "traditional-devon",
   "metadata": {},
   "source": [
    "## Projects"
   ]
  },
  {
   "cell_type": "markdown",
   "id": "comparable-cologne",
   "metadata": {},
   "source": [
    "1.29. Viết một hàm in ra tất cả các xâu được tạo bởi các ký tự 'c', 'a', 't', 'd', 'o', 'g' và không lặp lại."
   ]
  },
  {
   "cell_type": "markdown",
   "id": "valued-server",
   "metadata": {},
   "source": [
    "Ý tưởng: cần tìm một cách duyệt mà in ra tất cả các xâu theo thứ tự tuyến tính mà không có lặp lại.\n",
    "- Áp dụng khái niệm của hoán vị vào xem có được không??"
   ]
  },
  {
   "cell_type": "code",
   "execution_count": 24,
   "id": "affected-plymouth",
   "metadata": {},
   "outputs": [],
   "source": [
    "def possible_strings(characters): \n",
    "    for a in characters: \n",
    "        print('%s' % (a), end=' ')\n",
    "        remain = characters - [a]\n",
    "        \n",
    "        for b in remain: \n",
    "            print('%s' % (b), end=' ')\n",
    "            remain = remain - [b]\n",
    "            \n",
    "            for c in remain: \n",
    "                print('%s' % (c), end=' ')\n",
    "                remain = remain - [c]\n",
    "                \n",
    "                for d in remain: \n",
    "                    print('%s' % (d), end=' ')\n",
    "                    remain = remain - [d]\n",
    "                    \n",
    "                    for e in remain: \n",
    "                        print('%s' % (e), end='\\n')"
   ]
  },
  {
   "cell_type": "code",
   "execution_count": 25,
   "id": "bright-activity",
   "metadata": {},
   "outputs": [
    {
     "name": "stdout",
     "output_type": "stream",
     "text": [
      "c "
     ]
    },
    {
     "ename": "TypeError",
     "evalue": "unsupported operand type(s) for -: 'list' and 'list'",
     "output_type": "error",
     "traceback": [
      "\u001b[1;31m---------------------------------------------------------------------------\u001b[0m",
      "\u001b[1;31mTypeError\u001b[0m                                 Traceback (most recent call last)",
      "\u001b[1;32m<ipython-input-25-11e5c1c29141>\u001b[0m in \u001b[0;36m<module>\u001b[1;34m\u001b[0m\n\u001b[1;32m----> 1\u001b[1;33m \u001b[0mpossible_strings\u001b[0m\u001b[1;33m(\u001b[0m\u001b[1;33m[\u001b[0m\u001b[1;34m'c'\u001b[0m\u001b[1;33m,\u001b[0m \u001b[1;34m'a'\u001b[0m\u001b[1;33m,\u001b[0m \u001b[1;34m't'\u001b[0m\u001b[1;33m,\u001b[0m \u001b[1;34m'd'\u001b[0m\u001b[1;33m,\u001b[0m \u001b[1;34m'o'\u001b[0m\u001b[1;33m,\u001b[0m \u001b[1;34m'g'\u001b[0m\u001b[1;33m]\u001b[0m\u001b[1;33m)\u001b[0m\u001b[1;33m\u001b[0m\u001b[1;33m\u001b[0m\u001b[0m\n\u001b[0m",
      "\u001b[1;32m<ipython-input-24-0847c059324e>\u001b[0m in \u001b[0;36mpossible_strings\u001b[1;34m(characters)\u001b[0m\n\u001b[0;32m      2\u001b[0m     \u001b[1;32mfor\u001b[0m \u001b[0ma\u001b[0m \u001b[1;32min\u001b[0m \u001b[0mcharacters\u001b[0m\u001b[1;33m:\u001b[0m\u001b[1;33m\u001b[0m\u001b[1;33m\u001b[0m\u001b[0m\n\u001b[0;32m      3\u001b[0m         \u001b[0mprint\u001b[0m\u001b[1;33m(\u001b[0m\u001b[1;34m'%s'\u001b[0m \u001b[1;33m%\u001b[0m \u001b[1;33m(\u001b[0m\u001b[0ma\u001b[0m\u001b[1;33m)\u001b[0m\u001b[1;33m,\u001b[0m \u001b[0mend\u001b[0m\u001b[1;33m=\u001b[0m\u001b[1;34m' '\u001b[0m\u001b[1;33m)\u001b[0m\u001b[1;33m\u001b[0m\u001b[1;33m\u001b[0m\u001b[0m\n\u001b[1;32m----> 4\u001b[1;33m         \u001b[0mremain\u001b[0m \u001b[1;33m=\u001b[0m \u001b[0mcharacters\u001b[0m \u001b[1;33m-\u001b[0m \u001b[1;33m[\u001b[0m\u001b[0ma\u001b[0m\u001b[1;33m]\u001b[0m\u001b[1;33m\u001b[0m\u001b[1;33m\u001b[0m\u001b[0m\n\u001b[0m\u001b[0;32m      5\u001b[0m \u001b[1;33m\u001b[0m\u001b[0m\n\u001b[0;32m      6\u001b[0m         \u001b[1;32mfor\u001b[0m \u001b[0mb\u001b[0m \u001b[1;32min\u001b[0m \u001b[0mremain\u001b[0m\u001b[1;33m:\u001b[0m\u001b[1;33m\u001b[0m\u001b[1;33m\u001b[0m\u001b[0m\n",
      "\u001b[1;31mTypeError\u001b[0m: unsupported operand type(s) for -: 'list' and 'list'"
     ]
    }
   ],
   "source": [
    "possible_strings(['c', 'a', 't', 'd', 'o', 'g'])"
   ]
  },
  {
   "cell_type": "code",
   "execution_count": null,
   "id": "indian-atlanta",
   "metadata": {},
   "outputs": [],
   "source": []
  }
 ],
 "metadata": {
  "kernelspec": {
   "display_name": "Python 3.8.3 ('base')",
   "language": "python",
   "name": "python3"
  },
  "language_info": {
   "codemirror_mode": {
    "name": "ipython",
    "version": 3
   },
   "file_extension": ".py",
   "mimetype": "text/x-python",
   "name": "python",
   "nbconvert_exporter": "python",
   "pygments_lexer": "ipython3",
   "version": "3.8.3"
  },
  "vscode": {
   "interpreter": {
    "hash": "49cb93f377a7abe7414b7b0f21fb3017538004a126cf690fb524202736b7fb92"
   }
  }
 },
 "nbformat": 4,
 "nbformat_minor": 5
}
