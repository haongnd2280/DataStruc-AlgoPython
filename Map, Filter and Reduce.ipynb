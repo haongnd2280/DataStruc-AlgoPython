{
 "cells": [
  {
   "cell_type": "markdown",
   "id": "dental-payroll",
   "metadata": {},
   "source": [
    "# 1. Map "
   ]
  },
  {
   "cell_type": "markdown",
   "id": "stopped-payday",
   "metadata": {},
   "source": [
    "- hàm map(fun, iter): trả về một map object (là một iterator) bao gồm các kết quả sau khi áp dụng một hàm vào mỗi phần tử của một iterable (list, tuple, etc)"
   ]
  },
  {
   "cell_type": "markdown",
   "id": "improved-profession",
   "metadata": {},
   "source": [
    "Chú ý: Ta có thể pass một hoặc nhiều iterable vào hàm map()."
   ]
  },
  {
   "cell_type": "markdown",
   "id": "dominican-stationery",
   "metadata": {},
   "source": [
    "Chú ý: Giá trị trả về của map() (map object) thường được pass vào những hàm như list() hay set() để tạo ra các kiểu dữ liệu tương ứng."
   ]
  },
  {
   "cell_type": "markdown",
   "id": "directed-bargain",
   "metadata": {},
   "source": [
    "Ví dụ: "
   ]
  },
  {
   "cell_type": "code",
   "execution_count": 1,
   "id": "bronze-transcript",
   "metadata": {},
   "outputs": [],
   "source": [
    "def addition(n): \n",
    "    return n + n"
   ]
  },
  {
   "cell_type": "code",
   "execution_count": 2,
   "id": "cardiovascular-emphasis",
   "metadata": {},
   "outputs": [],
   "source": [
    "numbers = (1, 2, 3, 4)"
   ]
  },
  {
   "cell_type": "code",
   "execution_count": 6,
   "id": "pretty-relation",
   "metadata": {},
   "outputs": [],
   "source": [
    "result = map(addition, numbers)  # áp dụng hàm addition vào lần lượt từng phần tử trong numbers. "
   ]
  },
  {
   "cell_type": "code",
   "execution_count": 7,
   "id": "posted-camel",
   "metadata": {},
   "outputs": [
    {
     "data": {
      "text/plain": [
       "<map at 0x2397d1e1dc0>"
      ]
     },
     "execution_count": 7,
     "metadata": {},
     "output_type": "execute_result"
    }
   ],
   "source": [
    "result"
   ]
  },
  {
   "cell_type": "code",
   "execution_count": 8,
   "id": "included-furniture",
   "metadata": {},
   "outputs": [
    {
     "name": "stdout",
     "output_type": "stream",
     "text": [
      "[2, 4, 6, 8]\n"
     ]
    }
   ],
   "source": [
    "print(list(result))"
   ]
  },
  {
   "cell_type": "markdown",
   "id": "french-american",
   "metadata": {},
   "source": [
    "Ví dụ 2: Ta có thể dùng hàm biểu thức lambda với map để thu được kết quả giống với ở trên. "
   ]
  },
  {
   "cell_type": "code",
   "execution_count": 9,
   "id": "victorian-company",
   "metadata": {},
   "outputs": [],
   "source": [
    "numbers = (1, 2, 3, 4)"
   ]
  },
  {
   "cell_type": "code",
   "execution_count": 12,
   "id": "infinite-exchange",
   "metadata": {},
   "outputs": [],
   "source": [
    "result = map(lambda x: x * x, numbers)"
   ]
  },
  {
   "cell_type": "code",
   "execution_count": 13,
   "id": "distributed-cabin",
   "metadata": {},
   "outputs": [
    {
     "name": "stdout",
     "output_type": "stream",
     "text": [
      "[1, 4, 9, 16]\n"
     ]
    }
   ],
   "source": [
    "print(list(result))"
   ]
  },
  {
   "cell_type": "markdown",
   "id": "described-transportation",
   "metadata": {},
   "source": [
    "Ví dụ 3: Cộng hai list sử dụng map và lambda: "
   ]
  },
  {
   "cell_type": "code",
   "execution_count": 14,
   "id": "certified-ticket",
   "metadata": {},
   "outputs": [],
   "source": [
    "numbers1 = [1, 2, 3]\n",
    "numbers2 = [4, 5, 6]"
   ]
  },
  {
   "cell_type": "code",
   "execution_count": 15,
   "id": "alpha-soundtrack",
   "metadata": {},
   "outputs": [],
   "source": [
    "result = map(lambda x, y: x + y, numbers1, numbers2)"
   ]
  },
  {
   "cell_type": "code",
   "execution_count": 16,
   "id": "differential-potato",
   "metadata": {},
   "outputs": [
    {
     "data": {
      "text/plain": [
       "<map at 0x2397d230070>"
      ]
     },
     "execution_count": 16,
     "metadata": {},
     "output_type": "execute_result"
    }
   ],
   "source": [
    "result"
   ]
  },
  {
   "cell_type": "code",
   "execution_count": 17,
   "id": "portable-settle",
   "metadata": {},
   "outputs": [
    {
     "name": "stdout",
     "output_type": "stream",
     "text": [
      "[5, 7, 9]\n"
     ]
    }
   ],
   "source": [
    "print(list(result))"
   ]
  },
  {
   "cell_type": "markdown",
   "id": "binary-competition",
   "metadata": {},
   "source": [
    "Ví dụ 4: Áp dụng với KDL string"
   ]
  },
  {
   "cell_type": "code",
   "execution_count": 18,
   "id": "french-yield",
   "metadata": {},
   "outputs": [],
   "source": [
    "string = ['sat', 'bat', 'cat', 'mat']"
   ]
  },
  {
   "cell_type": "code",
   "execution_count": 19,
   "id": "commercial-wings",
   "metadata": {},
   "outputs": [],
   "source": [
    "test = list(map(list, string))"
   ]
  },
  {
   "cell_type": "code",
   "execution_count": 20,
   "id": "respective-amber",
   "metadata": {},
   "outputs": [
    {
     "name": "stdout",
     "output_type": "stream",
     "text": [
      "[['s', 'a', 't'], ['b', 'a', 't'], ['c', 'a', 't'], ['m', 'a', 't']]\n"
     ]
    }
   ],
   "source": [
    "print(list(test))"
   ]
  },
  {
   "cell_type": "markdown",
   "id": "english-friendly",
   "metadata": {},
   "source": [
    "# 2. Filter"
   ]
  },
  {
   "cell_type": "markdown",
   "id": "floppy-kruger",
   "metadata": {},
   "source": [
    "- filter(func, iter): giống như map là đểu áp dụng hàm fun vào mỗi phần tử của iterable, và trả vể một list các phần tử mà hàm func trả về True (giống kiểu lọc và trả về những giá trị thỏa mãn điều kiện trong hàm)"
   ]
  },
  {
   "cell_type": "markdown",
   "id": "intensive-newsletter",
   "metadata": {},
   "source": [
    "Ví dụ:"
   ]
  },
  {
   "cell_type": "code",
   "execution_count": 21,
   "id": "devoted-bridge",
   "metadata": {},
   "outputs": [],
   "source": [
    "number_list = range(-5, 5)\n",
    "less_than_zero = list(filter(lambda x: x < 0, number_list))  # lọc những giá trị < 0."
   ]
  },
  {
   "cell_type": "code",
   "execution_count": 22,
   "id": "technical-skirt",
   "metadata": {},
   "outputs": [
    {
     "name": "stdout",
     "output_type": "stream",
     "text": [
      "[-5, -4, -3, -2, -1]\n"
     ]
    }
   ],
   "source": [
    "print(less_than_zero)"
   ]
  },
  {
   "cell_type": "markdown",
   "id": "placed-premium",
   "metadata": {},
   "source": [
    "Hàm filter giống một vòng lặp for nhưng nó là một hàm có sẵn vì thế nên nhanh hơn."
   ]
  },
  {
   "cell_type": "markdown",
   "id": "final-democracy",
   "metadata": {},
   "source": [
    "# 3. Reduce"
   ]
  },
  {
   "cell_type": "markdown",
   "id": "previous-transsexual",
   "metadata": {},
   "source": [
    "- reduce(func, iter): hàm này chỉ thực hiện tính toán trong nội bộ các phần tử của iter và trả về kết quả (ví dụ: cộng, nhân các phần tử trong iter). Nó ở trong module functools."
   ]
  },
  {
   "cell_type": "markdown",
   "id": "exposed-while",
   "metadata": {},
   "source": [
    "Cách thức hoạt động: \n",
    "- Bước đầu tiên, hai phần tử đầu tiên của iter được chọn và pass vào trong hàm để thực hiện -> thu được kết quả. \n",
    "- Bước tiếp theo, áp dụng hàm đó vào vào kết quả vừa thu được ở trên với giá trị tiếp theo trong iter -> lưu kết quả mới.\n",
    "- Quá trình này tiếp tục cho đến khi không còn phần tử nào trong container. \n",
    "- Kết quả cuối cùng được trả về và in ra màn hình."
   ]
  },
  {
   "cell_type": "code",
   "execution_count": 23,
   "id": "worldwide-director",
   "metadata": {},
   "outputs": [],
   "source": [
    "from functools import reduce "
   ]
  },
  {
   "cell_type": "code",
   "execution_count": 24,
   "id": "oriented-atlantic",
   "metadata": {},
   "outputs": [],
   "source": [
    "product = reduce(lambda x, y: x * y, [1, 2, 3, 4])  # nhân các phần tử trong list với nhau. "
   ]
  },
  {
   "cell_type": "code",
   "execution_count": 25,
   "id": "resistant-fruit",
   "metadata": {},
   "outputs": [
    {
     "name": "stdout",
     "output_type": "stream",
     "text": [
      "24\n"
     ]
    }
   ],
   "source": [
    "print(product)"
   ]
  },
  {
   "cell_type": "markdown",
   "id": "fluid-class",
   "metadata": {},
   "source": [
    "=> hàm trên giống hàm sum() trong ndarray: cộng các phần tử trong ndarray với nhau và trả về kết quả đó."
   ]
  },
  {
   "cell_type": "markdown",
   "id": "cathedral-zambia",
   "metadata": {},
   "source": [
    "Ví dụ 2: Tìm phần tử lớn nhất trong mảng."
   ]
  },
  {
   "cell_type": "code",
   "execution_count": 26,
   "id": "worth-frederick",
   "metadata": {},
   "outputs": [],
   "source": [
    "array = [1, 3, 5, 6, 2]"
   ]
  },
  {
   "cell_type": "code",
   "execution_count": 28,
   "id": "intensive-german",
   "metadata": {},
   "outputs": [
    {
     "data": {
      "text/plain": [
       "6"
      ]
     },
     "execution_count": 28,
     "metadata": {},
     "output_type": "execute_result"
    }
   ],
   "source": [
    "reduce(lambda a, b: a if a > b else b, array) "
   ]
  },
  {
   "cell_type": "code",
   "execution_count": null,
   "id": "surprised-biology",
   "metadata": {},
   "outputs": [],
   "source": []
  }
 ],
 "metadata": {
  "kernelspec": {
   "display_name": "Python 3",
   "language": "python",
   "name": "python3"
  },
  "language_info": {
   "codemirror_mode": {
    "name": "ipython",
    "version": 3
   },
   "file_extension": ".py",
   "mimetype": "text/x-python",
   "name": "python",
   "nbconvert_exporter": "python",
   "pygments_lexer": "ipython3",
   "version": "3.8.3"
  }
 },
 "nbformat": 4,
 "nbformat_minor": 5
}
