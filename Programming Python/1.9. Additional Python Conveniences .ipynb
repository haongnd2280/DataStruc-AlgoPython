{
 "cells": [
  {
   "cell_type": "markdown",
   "id": "utility-george",
   "metadata": {},
   "source": [
    "## 1.9.1 Conditional Expressions(Biểu thức điều kiện)"
   ]
  },
  {
   "cell_type": "markdown",
   "id": "virtual-coordinate",
   "metadata": {},
   "source": [
    "- Cấu trúc rút gọn của biểu thức điểu kiện trong Python:"
   ]
  },
  {
   "cell_type": "markdown",
   "id": "variable-orlando",
   "metadata": {},
   "source": [
    "\"expression1 if condition else expression2\""
   ]
  },
  {
   "cell_type": "markdown",
   "id": "sealed-sustainability",
   "metadata": {},
   "source": [
    "Ví dụ: tính giá trị tuyệt đối của một biến n mà không sử dụng hàm có sẵn abs()."
   ]
  },
  {
   "cell_type": "markdown",
   "id": "defined-chamber",
   "metadata": {},
   "source": [
    "- Cấu trúc điều khiển truyền thống:"
   ]
  },
  {
   "cell_type": "code",
   "execution_count": 3,
   "id": "included-gathering",
   "metadata": {},
   "outputs": [],
   "source": [
    "def absValue(n): \n",
    "    if n >= 0: \n",
    "        param = n\n",
    "    else: \n",
    "        param = -n "
   ]
  },
  {
   "cell_type": "markdown",
   "id": "vocational-participant",
   "metadata": {},
   "source": [
    "- Cấu trúc rút gọn: "
   ]
  },
  {
   "cell_type": "markdown",
   "id": "practical-irish",
   "metadata": {},
   "source": [
    "param = n if n >= 0 else -n "
   ]
  },
  {
   "cell_type": "markdown",
   "id": "sensitive-breast",
   "metadata": {},
   "source": [
    "Chú ý: biểu thức điều kiện có thể được dùng làm tham số cho hàm, ví dụ:"
   ]
  },
  {
   "cell_type": "markdown",
   "id": "happy-alliance",
   "metadata": {},
   "source": [
    "result = foo(n if n >= 0 else -n)"
   ]
  },
  {
   "cell_type": "markdown",
   "id": "domestic-roads",
   "metadata": {},
   "source": [
    "Chú ý: nên sử dụng cấu trúc rút gọn trong trường hợp nó tăng khả năng dễ đọc của code, và khi điều kiện đầu tiên trong hai điều kiện là trường hợp có khả năng xảy ra cao hơn, vì thế cho thấy sự nổi bật hơn trong cú pháp (trường hợp còn lại rất hiếm khi xảy ra)."
   ]
  },
  {
   "cell_type": "markdown",
   "id": "smart-hepatitis",
   "metadata": {},
   "source": [
    "## 1.9.2. Comprehension syntax (cú pháp tự hoàn thiện)"
   ]
  },
  {
   "cell_type": "markdown",
   "id": "reflected-intelligence",
   "metadata": {},
   "source": [
    "- Có một công việc khá phổ biến, đó là tạo ra một dãy các giá trị dựa vào việc xử lý một dãy giá trị khác. Ta có thể thực hiện đơn giản điều này bằng cách sử dụng comprehension syntax."
   ]
  },
  {
   "cell_type": "markdown",
   "id": "rough-midwest",
   "metadata": {},
   "source": [
    "- Đầu tiên, ta sẽ biểu diễn list comprehension trước:"
   ]
  },
  {
   "cell_type": "markdown",
   "id": "accepted-apparel",
   "metadata": {},
   "source": [
    "Ví dụ: tạo một list các số chính phương từ 1 đến n"
   ]
  },
  {
   "cell_type": "markdown",
   "id": "ultimate-optimum",
   "metadata": {},
   "source": [
    "- Cách truyền thống: "
   ]
  },
  {
   "cell_type": "code",
   "execution_count": null,
   "id": "critical-temperature",
   "metadata": {},
   "outputs": [],
   "source": [
    "squares = []\n",
    "for k in range(1, n + 1): \n",
    "    squares.append(k * k)"
   ]
  },
  {
   "cell_type": "markdown",
   "id": "measured-apache",
   "metadata": {},
   "source": [
    "- Sử dụng list comprehension:"
   ]
  },
  {
   "cell_type": "markdown",
   "id": "fifth-bridges",
   "metadata": {},
   "source": [
    "squares = [k * k for k in range(1, n + 1)]"
   ]
  },
  {
   "cell_type": "markdown",
   "id": "alert-knitting",
   "metadata": {},
   "source": [
    "Ví dụ 2: tạo một list các ước số của một số nguyên n:"
   ]
  },
  {
   "cell_type": "markdown",
   "id": "approximate-mason",
   "metadata": {},
   "source": [
    "factors = [k for k in range(1, n + 1) if n % k == 0]"
   ]
  }
 ],
 "metadata": {
  "kernelspec": {
   "display_name": "Python 3",
   "language": "python",
   "name": "python3"
  },
  "language_info": {
   "codemirror_mode": {
    "name": "ipython",
    "version": 3
   },
   "file_extension": ".py",
   "mimetype": "text/x-python",
   "name": "python",
   "nbconvert_exporter": "python",
   "pygments_lexer": "ipython3",
   "version": "3.8.3"
  }
 },
 "nbformat": 4,
 "nbformat_minor": 5
}
