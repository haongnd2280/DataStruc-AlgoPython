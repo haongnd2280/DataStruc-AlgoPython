{
 "cells": [
  {
   "cell_type": "markdown",
   "id": "decreased-senate",
   "metadata": {},
   "source": [
    "- Context Managers giúp ta phân bổ và giải phóng tài nguyên một cách chính xác khi cần. "
   ]
  },
  {
   "cell_type": "code",
   "execution_count": null,
   "id": "selective-copper",
   "metadata": {},
   "outputs": [],
   "source": [
    "Ví dụ với câu lệnh with: "
   ]
  },
  {
   "cell_type": "code",
   "execution_count": 1,
   "id": "regional-speaker",
   "metadata": {},
   "outputs": [],
   "source": [
    "with open('some_file.txt', 'w') as opened_file: \n",
    "    opened_file.write('Hola')"
   ]
  },
  {
   "cell_type": "markdown",
   "id": "joined-piece",
   "metadata": {},
   "source": [
    "Đoạn code ở trên mở một file, viết vào nó rồi đóng file. Nếu xảy ra lỗi trong khi viết dữ liệu vào file thì câu lệnh with sẽ đóng file đó. (Như vậy, ta không cần phải chỉ rõ câu lệnh close() mà nó đã được ngầm định thực hiện sẵn ở cuối cùng rồi. Nếu có lỗi xảy ra thì vẫn sẽ đóng file như thường)."
   ]
  },
  {
   "cell_type": "markdown",
   "id": "entire-motion",
   "metadata": {},
   "source": [
    "Đoạn code trên tương đương với: "
   ]
  },
  {
   "cell_type": "code",
   "execution_count": 3,
   "id": "split-vietnam",
   "metadata": {},
   "outputs": [],
   "source": [
    "file = open('some_file.txt', 'w')\n",
    "try: \n",
    "    file.write('Hola!')\n",
    "finally: \n",
    "    file.close()"
   ]
  },
  {
   "cell_type": "markdown",
   "id": "connected-passport",
   "metadata": {},
   "source": [
    "So sánh 2 đoạn code trên với nhau, có thể dễ dàng nhận thấy đoạn code đầu tiên với with sẽ gọn gàng và ngắn gọn hơn, dù quá trình ghi dữ liệu vào file có bị lỗi hay không thì file vẫn sẽ đảm bảo được đóng."
   ]
  },
  {
   "cell_type": "code",
   "execution_count": null,
   "id": "activated-dialogue",
   "metadata": {},
   "outputs": [],
   "source": []
  }
 ],
 "metadata": {
  "kernelspec": {
   "display_name": "Python 3",
   "language": "python",
   "name": "python3"
  },
  "language_info": {
   "codemirror_mode": {
    "name": "ipython",
    "version": 3
   },
   "file_extension": ".py",
   "mimetype": "text/x-python",
   "name": "python",
   "nbconvert_exporter": "python",
   "pygments_lexer": "ipython3",
   "version": "3.8.3"
  }
 },
 "nbformat": 4,
 "nbformat_minor": 5
}
