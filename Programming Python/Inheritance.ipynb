{
 "cells": [
  {
   "cell_type": "markdown",
   "id": "twenty-dinner",
   "metadata": {},
   "source": [
    "# Create the parent class"
   ]
  },
  {
   "cell_type": "code",
   "execution_count": 24,
   "id": "brutal-filling",
   "metadata": {},
   "outputs": [],
   "source": [
    "class Person: \n",
    "    \"\"\"Create a class named Person, with firstname and lastname properties, and a printname method:\"\"\"\n",
    "    def __init__(self, fname,lname): \n",
    "        self.first_name = fname \n",
    "        self.last_name = lname\n",
    "        \n",
    "    def printname(self): \n",
    "        print(self.first_name, self.last_name)\n",
    "        "
   ]
  },
  {
   "cell_type": "code",
   "execution_count": 25,
   "id": "temporal-auditor",
   "metadata": {},
   "outputs": [],
   "source": [
    "x = Person(\"John\", \"Doe\")"
   ]
  },
  {
   "cell_type": "code",
   "execution_count": 26,
   "id": "special-credit",
   "metadata": {},
   "outputs": [
    {
     "name": "stdout",
     "output_type": "stream",
     "text": [
      "John Doe\n"
     ]
    }
   ],
   "source": [
    "x.printname()"
   ]
  },
  {
   "cell_type": "markdown",
   "id": "known-determination",
   "metadata": {},
   "source": [
    "# Creating the child class "
   ]
  },
  {
   "cell_type": "code",
   "execution_count": 4,
   "id": "proof-pocket",
   "metadata": {},
   "outputs": [],
   "source": [
    "class Student(Person): \n",
    "    \"\"\"Class children inherits the properties and methods from the Person class:\"\"\"\n",
    "    pass"
   ]
  },
  {
   "cell_type": "code",
   "execution_count": 10,
   "id": "convenient-sodium",
   "metadata": {},
   "outputs": [
    {
     "name": "stdout",
     "output_type": "stream",
     "text": [
      "Help on class Student in module __main__:\n",
      "\n",
      "class Student(Person)\n",
      " |  Student(fname, lname)\n",
      " |  \n",
      " |  Create a class named Person, with firstname and lastname properties, and a printname method:\n",
      " |  \n",
      " |  Method resolution order:\n",
      " |      Student\n",
      " |      Person\n",
      " |      builtins.object\n",
      " |  \n",
      " |  Methods defined here:\n",
      " |  \n",
      " |  __init__(self, fname, lname)\n",
      " |      Initialize self.  See help(type(self)) for accurate signature.\n",
      " |  \n",
      " |  ----------------------------------------------------------------------\n",
      " |  Methods inherited from Person:\n",
      " |  \n",
      " |  printname(self)\n",
      " |  \n",
      " |  ----------------------------------------------------------------------\n",
      " |  Data descriptors inherited from Person:\n",
      " |  \n",
      " |  __dict__\n",
      " |      dictionary for instance variables (if defined)\n",
      " |  \n",
      " |  __weakref__\n",
      " |      list of weak references to the object (if defined)\n",
      "\n"
     ]
    }
   ],
   "source": [
    "help(Student)"
   ]
  },
  {
   "cell_type": "markdown",
   "id": "southern-tribune",
   "metadata": {},
   "source": [
    "Ta sử dụng từ khóa \"pass\" khi ta không muốn thêm properties hoặc methods nào cho class nữa."
   ]
  },
  {
   "cell_type": "markdown",
   "id": "framed-folks",
   "metadata": {},
   "source": [
    "Bây giờ class Student có cùng properties và methods với lớp Person."
   ]
  },
  {
   "cell_type": "code",
   "execution_count": 5,
   "id": "little-norway",
   "metadata": {},
   "outputs": [],
   "source": [
    "x = Student(\"Mike\", \"Olsen\")"
   ]
  },
  {
   "cell_type": "code",
   "execution_count": 6,
   "id": "former-professor",
   "metadata": {},
   "outputs": [
    {
     "name": "stdout",
     "output_type": "stream",
     "text": [
      "Mike Olsen\n"
     ]
    }
   ],
   "source": [
    "x.printname()"
   ]
  },
  {
   "cell_type": "markdown",
   "id": "great-caution",
   "metadata": {},
   "source": [
    "# Add the __init__() function"
   ]
  },
  {
   "cell_type": "code",
   "execution_count": 8,
   "id": "north-boxing",
   "metadata": {},
   "outputs": [],
   "source": [
    "class Student(Person): \n",
    "    def __init__(self, fname, lname): \n",
    "        # add properties etc "
   ]
  },
  {
   "cell_type": "markdown",
   "id": "palestinian-garlic",
   "metadata": {},
   "source": [
    "Khi ta thêm vào hàm __init__() vào child class, thì child class sẽ không còn kế thừa hàm __init__() của parent class nữa."
   ]
  },
  {
   "cell_type": "markdown",
   "id": "convinced-toyota",
   "metadata": {},
   "source": [
    "Khi đó: ta nói rằng hàm init() của lớp con **override** (ghi đè) tính kế thừa (the inheritance) của hàm init() của lớp cha. "
   ]
  },
  {
   "cell_type": "markdown",
   "id": "ideal-shareware",
   "metadata": {},
   "source": [
    "Nếu ta muốn giữ tính kế thừa của hàm init() của lớp cha, thì ta thêm vào một lời gọi đến hàm ini() của lớp cha: "
   ]
  },
  {
   "cell_type": "code",
   "execution_count": 11,
   "id": "applied-korean",
   "metadata": {},
   "outputs": [],
   "source": [
    "class Student(Person): \n",
    "    \"\"\"The class Student is inherited from the class Person\"\"\"\n",
    "    def __init__(self, fname, lname): \n",
    "        Person.__init__(self, fname, lname)"
   ]
  },
  {
   "cell_type": "code",
   "execution_count": 12,
   "id": "together-approach",
   "metadata": {},
   "outputs": [
    {
     "name": "stdout",
     "output_type": "stream",
     "text": [
      "Help on class Student in module __main__:\n",
      "\n",
      "class Student(Person)\n",
      " |  Student(fname, lname)\n",
      " |  \n",
      " |  The class Student is inherited from the class Person\n",
      " |  \n",
      " |  Method resolution order:\n",
      " |      Student\n",
      " |      Person\n",
      " |      builtins.object\n",
      " |  \n",
      " |  Methods defined here:\n",
      " |  \n",
      " |  __init__(self, fname, lname)\n",
      " |      Initialize self.  See help(type(self)) for accurate signature.\n",
      " |  \n",
      " |  ----------------------------------------------------------------------\n",
      " |  Methods inherited from Person:\n",
      " |  \n",
      " |  printname(self)\n",
      " |  \n",
      " |  ----------------------------------------------------------------------\n",
      " |  Data descriptors inherited from Person:\n",
      " |  \n",
      " |  __dict__\n",
      " |      dictionary for instance variables (if defined)\n",
      " |  \n",
      " |  __weakref__\n",
      " |      list of weak references to the object (if defined)\n",
      "\n"
     ]
    }
   ],
   "source": [
    "help(Student)"
   ]
  },
  {
   "cell_type": "markdown",
   "id": "ecological-oracle",
   "metadata": {},
   "source": [
    "# Sử dụng hàm Super()"
   ]
  },
  {
   "cell_type": "markdown",
   "id": "completed-andrews",
   "metadata": {},
   "source": [
    "Hàm super() khiến cho lớp con kế thừa tất cả các methods và properties từ lớp cha của nó. "
   ]
  },
  {
   "cell_type": "code",
   "execution_count": 13,
   "id": "extensive-couple",
   "metadata": {},
   "outputs": [],
   "source": [
    "class Student(Person): \n",
    "    def __init__(self, fname, lname): \n",
    "        super().__init__(fname, lname)"
   ]
  },
  {
   "cell_type": "markdown",
   "id": "major-reproduction",
   "metadata": {},
   "source": [
    "Bằng cách sử dụng hàm super(), bạn sẽ không cần phải sử dụng tên của lớp cha nữa (trong TH bạn quên), mà nó sẽ tự động kế thừa tất cả các methods và properties từ lớp cha của nó."
   ]
  },
  {
   "cell_type": "markdown",
   "id": "julian-fault",
   "metadata": {},
   "source": [
    "# Add properties (to the child class)"
   ]
  },
  {
   "cell_type": "code",
   "execution_count": 14,
   "id": "norwegian-rates",
   "metadata": {},
   "outputs": [],
   "source": [
    "class Student(Person): \n",
    "    def __init__(self, fname, lname): \n",
    "        super().__init__(fname, lname)\n",
    "        self.graduation_year = 2019  # new properties "
   ]
  },
  {
   "cell_type": "markdown",
   "id": "sharp-latino",
   "metadata": {},
   "source": [
    "Để ý trong ví dụ trên, giá trị 2019 được khai báo trực tiếp trong hàm init chứ không được truyền vào từ bên ngoài. Vì thế, tốt nhất là nên để 2019 là một tham số và truyền đối số vào khi gọi hàm."
   ]
  },
  {
   "cell_type": "code",
   "execution_count": 15,
   "id": "professional-remark",
   "metadata": {},
   "outputs": [],
   "source": [
    "class Student(Person): \n",
    "    def __init__(self, fname, lname, year): \n",
    "        super().__init__(fname, lname)\n",
    "        self.graduation_year = year "
   ]
  },
  {
   "cell_type": "code",
   "execution_count": 16,
   "id": "infrared-fundamentals",
   "metadata": {},
   "outputs": [],
   "source": [
    "x = Student(\"Mike\", \"Olsen\", 2019)"
   ]
  },
  {
   "cell_type": "code",
   "execution_count": 17,
   "id": "instant-revolution",
   "metadata": {},
   "outputs": [
    {
     "name": "stdout",
     "output_type": "stream",
     "text": [
      "Mike Olsen\n"
     ]
    }
   ],
   "source": [
    "x.printname()"
   ]
  },
  {
   "cell_type": "markdown",
   "id": "adaptive-project",
   "metadata": {},
   "source": [
    "# Add methods"
   ]
  },
  {
   "cell_type": "code",
   "execution_count": 27,
   "id": "armed-expansion",
   "metadata": {},
   "outputs": [],
   "source": [
    "class Student(Person): \n",
    "    def __init__(self, fname, lname, year): \n",
    "        super().__init__(fname, lname)\n",
    "        self.graduation_year = year \n",
    "        \n",
    "    # add a new method\n",
    "    def welcome(self): \n",
    "        print(\"Welcome\", self.first_name, self.last_name, \"to the class of\", self.graduation_year)"
   ]
  },
  {
   "cell_type": "code",
   "execution_count": 28,
   "id": "monetary-special",
   "metadata": {},
   "outputs": [],
   "source": [
    "x = Student(\"Hao\", \"Nguyen\", 2023)"
   ]
  },
  {
   "cell_type": "code",
   "execution_count": 29,
   "id": "saved-practice",
   "metadata": {},
   "outputs": [
    {
     "name": "stdout",
     "output_type": "stream",
     "text": [
      "Welcome Hao Nguyen to the class of 2023\n"
     ]
    }
   ],
   "source": [
    "x.welcome()"
   ]
  },
  {
   "cell_type": "markdown",
   "id": "grand-sustainability",
   "metadata": {},
   "source": [
    "#### Chú ý: Nếu ta thêm vào lớp con một method có cùng tên với một function trong lớp cha, thì function đó của lớp cha sẽ bị ghi đè (overriden) bởi method của lớp con. "
   ]
  },
  {
   "cell_type": "code",
   "execution_count": null,
   "id": "current-decision",
   "metadata": {},
   "outputs": [],
   "source": []
  }
 ],
 "metadata": {
  "kernelspec": {
   "display_name": "Python 3",
   "language": "python",
   "name": "python3"
  },
  "language_info": {
   "codemirror_mode": {
    "name": "ipython",
    "version": 3
   },
   "file_extension": ".py",
   "mimetype": "text/x-python",
   "name": "python",
   "nbconvert_exporter": "python",
   "pygments_lexer": "ipython3",
   "version": "3.8.3"
  }
 },
 "nbformat": 4,
 "nbformat_minor": 5
}
