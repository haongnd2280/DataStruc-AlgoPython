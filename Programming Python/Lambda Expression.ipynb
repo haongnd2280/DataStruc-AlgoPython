{
 "cells": [
  {
   "cell_type": "markdown",
   "id": "ranking-rouge",
   "metadata": {},
   "source": [
    "Là một hàm vô danh nhỏ, có thể nhận số lượng đối số bất kỳ, nhưng chỉ có một expression. "
   ]
  },
  {
   "cell_type": "code",
   "execution_count": null,
   "id": "initial-guyana",
   "metadata": {},
   "outputs": [],
   "source": [
    "x = lambda a : a + 10 "
   ]
  },
  {
   "cell_type": "code",
   "execution_count": 2,
   "id": "naughty-departure",
   "metadata": {},
   "outputs": [
    {
     "data": {
      "text/plain": [
       "15"
      ]
     },
     "execution_count": 2,
     "metadata": {},
     "output_type": "execute_result"
    }
   ],
   "source": [
    "x(5)"
   ]
  },
  {
   "cell_type": "markdown",
   "id": "expired-nation",
   "metadata": {},
   "source": [
    "Nhìn vào ví dụ ở trên, ta thấy rằng hàm lambda có tên là x, đối số là a, biểu thức là a + 10. "
   ]
  },
  {
   "cell_type": "markdown",
   "id": "rocky-abuse",
   "metadata": {},
   "source": [
    "=> Nói là hàm vô danh, nhưng hàm lambda vẫn có tên riêng. "
   ]
  },
  {
   "cell_type": "code",
   "execution_count": 3,
   "id": "intended-inspector",
   "metadata": {},
   "outputs": [],
   "source": [
    "x = lambda a, b: a * b"
   ]
  },
  {
   "cell_type": "code",
   "execution_count": 4,
   "id": "ceramic-vertex",
   "metadata": {},
   "outputs": [
    {
     "data": {
      "text/plain": [
       "120"
      ]
     },
     "execution_count": 4,
     "metadata": {},
     "output_type": "execute_result"
    }
   ],
   "source": [
    "x(10, 12)"
   ]
  },
  {
   "cell_type": "code",
   "execution_count": 5,
   "id": "postal-checklist",
   "metadata": {},
   "outputs": [],
   "source": [
    "y = lambda a, b, c: (a + b + c) / 3"
   ]
  },
  {
   "cell_type": "code",
   "execution_count": 6,
   "id": "caring-animal",
   "metadata": {},
   "outputs": [
    {
     "data": {
      "text/plain": [
       "20.0"
      ]
     },
     "execution_count": 6,
     "metadata": {},
     "output_type": "execute_result"
    }
   ],
   "source": [
    "y(10, 20, 30)"
   ]
  },
  {
   "cell_type": "markdown",
   "id": "adolescent-program",
   "metadata": {},
   "source": [
    "# Câu hỏi: Hàm lambda có ưu điểm gì so với hàm thông thường??? Dùng trong trường hợp nào???"
   ]
  },
  {
   "cell_type": "markdown",
   "id": "constitutional-tumor",
   "metadata": {},
   "source": [
    "Ng ta nói, điểm mạnh là dùng hàm lambda bên trong một hàm khác (để tạo nhiều instance hàm khác nhau)"
   ]
  },
  {
   "cell_type": "markdown",
   "id": "familiar-fusion",
   "metadata": {},
   "source": [
    "Ví dụ, ta có một hàm nhận một đối số (function argument), và đối số đó sẽ được nhân với một số chưa biết (lambda argument)"
   ]
  },
  {
   "cell_type": "code",
   "execution_count": 7,
   "id": "possible-berry",
   "metadata": {},
   "outputs": [],
   "source": [
    "def myFunc(n): \n",
    "    return lambda a : a * n"
   ]
  },
  {
   "cell_type": "markdown",
   "id": "residential-pollution",
   "metadata": {},
   "source": [
    "Ta có thể tạo ra nhiều hàm khác nhau từ hàm trên, ví dụ hàm nhân với 2, nhân với 3, ...: "
   ]
  },
  {
   "cell_type": "code",
   "execution_count": 9,
   "id": "plastic-warner",
   "metadata": {},
   "outputs": [],
   "source": [
    "mydoubler = myFunc(2)"
   ]
  },
  {
   "cell_type": "markdown",
   "id": "neural-bulletin",
   "metadata": {},
   "source": [
    "Chú ý: 2 ở trên là đối số của hàm thông thường, đối số của hàm lambda sẽ được truyền vào từ hàm mydoubler. \n",
    "=> Hàm mydoubler là một hàm lambda."
   ]
  },
  {
   "cell_type": "code",
   "execution_count": 11,
   "id": "fifty-coaching",
   "metadata": {},
   "outputs": [
    {
     "data": {
      "text/plain": [
       "22"
      ]
     },
     "execution_count": 11,
     "metadata": {},
     "output_type": "execute_result"
    }
   ],
   "source": [
    "mydoubler(11)"
   ]
  },
  {
   "cell_type": "code",
   "execution_count": 12,
   "id": "outstanding-joseph",
   "metadata": {},
   "outputs": [],
   "source": [
    "myTrippler = myFunc(3)"
   ]
  },
  {
   "cell_type": "code",
   "execution_count": 13,
   "id": "religious-theory",
   "metadata": {},
   "outputs": [
    {
     "data": {
      "text/plain": [
       "72"
      ]
     },
     "execution_count": 13,
     "metadata": {},
     "output_type": "execute_result"
    }
   ],
   "source": [
    "myTrippler(24)"
   ]
  },
  {
   "cell_type": "code",
   "execution_count": 15,
   "id": "resistant-accent",
   "metadata": {},
   "outputs": [
    {
     "name": "stdout",
     "output_type": "stream",
     "text": [
      "22\n",
      "33\n"
     ]
    }
   ],
   "source": [
    "def myfunc(n):\n",
    "  return lambda a : a * n\n",
    "\n",
    "mydoubler = myfunc(2)\n",
    "mytripler = myfunc(3)\n",
    "\n",
    "print(mydoubler(11))\n",
    "print(mytripler(11))"
   ]
  },
  {
   "cell_type": "markdown",
   "id": "south-consultancy",
   "metadata": {},
   "source": [
    "# Sử dụng hàm lambda khi cần sử dụng một hàm vô danh trong một khoảng thời gian ngắn. "
   ]
  },
  {
   "cell_type": "code",
   "execution_count": null,
   "id": "protecting-optimum",
   "metadata": {},
   "outputs": [],
   "source": []
  }
 ],
 "metadata": {
  "kernelspec": {
   "display_name": "Python 3",
   "language": "python",
   "name": "python3"
  },
  "language_info": {
   "codemirror_mode": {
    "name": "ipython",
    "version": 3
   },
   "file_extension": ".py",
   "mimetype": "text/x-python",
   "name": "python",
   "nbconvert_exporter": "python",
   "pygments_lexer": "ipython3",
   "version": "3.8.4"
  }
 },
 "nbformat": 4,
 "nbformat_minor": 5
}
