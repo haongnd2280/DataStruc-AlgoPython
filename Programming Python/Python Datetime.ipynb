{
 "cells": [
  {
   "cell_type": "markdown",
   "id": "sudden-buffalo",
   "metadata": {},
   "source": [
    "## 1.1. Python Dates"
   ]
  },
  {
   "cell_type": "markdown",
   "id": "decreased-theater",
   "metadata": {},
   "source": [
    "- date trong Python cũng là một kiểu dữ liệu. Ta sử dụng module \"datetime\" để làm việc với ngày tháng như là date objects."
   ]
  },
  {
   "cell_type": "code",
   "execution_count": 1,
   "id": "southeast-mineral",
   "metadata": {},
   "outputs": [],
   "source": [
    "import datetime "
   ]
  },
  {
   "cell_type": "markdown",
   "id": "mexican-malta",
   "metadata": {},
   "source": [
    "Lấy thời gian hiện tại: "
   ]
  },
  {
   "cell_type": "code",
   "execution_count": 2,
   "id": "premier-monthly",
   "metadata": {},
   "outputs": [],
   "source": [
    "x = datetime.datetime.now()"
   ]
  },
  {
   "cell_type": "code",
   "execution_count": 3,
   "id": "molecular-likelihood",
   "metadata": {},
   "outputs": [
    {
     "name": "stdout",
     "output_type": "stream",
     "text": [
      "2021-09-02 01:50:58.793867\n"
     ]
    }
   ],
   "source": [
    "print(x)"
   ]
  },
  {
   "cell_type": "code",
   "execution_count": 4,
   "id": "respiratory-voice",
   "metadata": {},
   "outputs": [
    {
     "data": {
      "text/plain": [
       "datetime.datetime(2021, 9, 2, 1, 50, 58, 793867)"
      ]
     },
     "execution_count": 4,
     "metadata": {},
     "output_type": "execute_result"
    }
   ],
   "source": [
    "x"
   ]
  },
  {
   "cell_type": "markdown",
   "id": "integral-england",
   "metadata": {},
   "source": [
    "Module datetime có rất nhiều method để return thông tin về date object."
   ]
  },
  {
   "cell_type": "markdown",
   "id": "indie-appraisal",
   "metadata": {},
   "source": [
    "Ví dụ: trả về năm và thứ"
   ]
  },
  {
   "cell_type": "code",
   "execution_count": 5,
   "id": "herbal-blues",
   "metadata": {},
   "outputs": [],
   "source": [
    "x = datetime.datetime.now()"
   ]
  },
  {
   "cell_type": "code",
   "execution_count": 7,
   "id": "competent-christian",
   "metadata": {},
   "outputs": [
    {
     "data": {
      "text/plain": [
       "2021"
      ]
     },
     "execution_count": 7,
     "metadata": {},
     "output_type": "execute_result"
    }
   ],
   "source": [
    "x.year"
   ]
  },
  {
   "cell_type": "code",
   "execution_count": 8,
   "id": "broken-wealth",
   "metadata": {},
   "outputs": [
    {
     "data": {
      "text/plain": [
       "'Thursday'"
      ]
     },
     "execution_count": 8,
     "metadata": {},
     "output_type": "execute_result"
    }
   ],
   "source": [
    "x.strftime(\"%A\")"
   ]
  },
  {
   "cell_type": "markdown",
   "id": "consecutive-justice",
   "metadata": {},
   "source": [
    "## 1.2. Tạo date objects"
   ]
  },
  {
   "cell_type": "code",
   "execution_count": null,
   "id": "amber-occurrence",
   "metadata": {},
   "outputs": [],
   "source": []
  }
 ],
 "metadata": {
  "kernelspec": {
   "display_name": "Python 3",
   "language": "python",
   "name": "python3"
  },
  "language_info": {
   "codemirror_mode": {
    "name": "ipython",
    "version": 3
   },
   "file_extension": ".py",
   "mimetype": "text/x-python",
   "name": "python",
   "nbconvert_exporter": "python",
   "pygments_lexer": "ipython3",
   "version": "3.8.3"
  }
 },
 "nbformat": 4,
 "nbformat_minor": 5
}
