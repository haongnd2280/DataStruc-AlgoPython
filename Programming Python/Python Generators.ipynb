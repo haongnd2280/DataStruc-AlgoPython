{
 "cells": [
  {
   "cell_type": "markdown",
   "id": "adolescent-chicago",
   "metadata": {},
   "source": [
    "- Kỹ thuật tiện lợi nhất để tạo iterators trong Python là sử dụng generators."
   ]
  },
  {
   "cell_type": "markdown",
   "id": "smoking-gilbert",
   "metadata": {},
   "source": [
    "- Generator được thực hiện với cú pháp giống với hàm truyền thống, nhưng thay vì trả các giá trị (return values), thì generator sẽ sử dụng câu lệnh \"yield\" để chỉ rõ mỗi phần tử của chuỗi."
   ]
  },
  {
   "cell_type": "markdown",
   "id": "median-biodiversity",
   "metadata": {},
   "source": [
    "Ví dụ: Bài toán xác định tất cả các thừa số của một số nguyên dương:"
   ]
  },
  {
   "cell_type": "markdown",
   "id": "adult-yukon",
   "metadata": {},
   "source": [
    "- Nếu sử dụng hàm truyền thống: (thường trả về một list chứa tất cả các thừa số)"
   ]
  },
  {
   "cell_type": "code",
   "execution_count": 1,
   "id": "married-february",
   "metadata": {},
   "outputs": [],
   "source": [
    "def factors(n):                 # traditional function that computes factors\n",
    "    results = []                # store factors in a new list\n",
    "    for k in range(1, n + 1): \n",
    "        if n % k == 0:          # divides evenly, thus k is a factor\n",
    "            results.append(k)   # add k to the list of factors\n",
    "    \n",
    "    return results              # return the entire list"
   ]
  },
  {
   "cell_type": "markdown",
   "id": "sporting-plaza",
   "metadata": {},
   "source": [
    "- Nếu sử dụng generator thì sẽ trông như sau: "
   ]
  },
  {
   "cell_type": "code",
   "execution_count": 2,
   "id": "actual-warner",
   "metadata": {},
   "outputs": [],
   "source": [
    "def factors(n):                 # generator that computes factors\n",
    "    for k in range(1, n + 1): \n",
    "        if n % k == 0:          # divides evenly, thus k is a factor\n",
    "            yield k             # yield this factor as next result"
   ]
  },
  {
   "cell_type": "markdown",
   "id": "christian-shelter",
   "metadata": {},
   "source": [
    "Nhận xét và so sánh hai hàm trên: Nếu sử dụng generator thì sẽ cô đọng và gọn gàng hơn so với hàm truyền thống, không phải tạo list và lưu giá trị vào bộ nhớ."
   ]
  },
  {
   "cell_type": "markdown",
   "id": "complicated-dallas",
   "metadata": {},
   "source": [
    "Ta không thể kết hợp hai câu lệnh yield và return trong cùng một hàm được, ngoại trừ câu lệnh return với đối số 0 để dừng sự thực thi của generator."
   ]
  },
  {
   "cell_type": "markdown",
   "id": "resident-quick",
   "metadata": {},
   "source": [
    "Nếu ta viết một vòng lặp: for factor in factors(100): một instance của generator ở trên sẽ được tạo ra. Tại mỗi bước lặp của vòng lặp, Python sẽ thực thi procedure (các câu lệnh trong thân vòng lặp) cho đến khi một câu lệnh \"yield\" chỉ ra giá trị tiếp theo. Tại thời điểm đó, procedure sẽ tạm thời bị gián đoạn (tạm dừng), và sẽ chỉ tiếp tục khi giá trị tiếp theo được yêu cầu. Khi dòng thực thi đi đến cuối thủ tục (hoặc câu lệnh return 0) thì ngoại lệ \"StopIteration\" sẽ được sinh tự động. "
   ]
  },
  {
   "cell_type": "markdown",
   "id": "green-dominican",
   "metadata": {},
   "source": [
    "Ta có thể dùng nhiều câu lệnh \"yield\" trong generator (đây có thể coi là một lợi thế nữa so với câu lệnh return), và chuỗi được tạo ra sẽ theo đúng thứ tự tự nhiên của câu lệnh \"yield\" đó. "
   ]
  },
  {
   "cell_type": "markdown",
   "id": "dietary-spine",
   "metadata": {},
   "source": [
    "Ví dụ: Ta có thể cải thiện sự hiệu quả của hàm generator dùng để tính ước số ở trên bằng cách chỉ kiểm tra các giá trị lớn đến căn bậc hai của số đó, và thêm một câu lệnh yield để trả về ước số đối xứng với ước số tìm được qua căn bậc hai."
   ]
  },
  {
   "cell_type": "code",
   "execution_count": 4,
   "id": "characteristic-demand",
   "metadata": {},
   "outputs": [],
   "source": [
    "def factors(n):               # generator that computes factors\n",
    "    k = 1\n",
    "    while k * k < n:          # while k < sqrt(n)\n",
    "        if n % k == 0: \n",
    "            yield k \n",
    "            yield n // k \n",
    "        k += 1\n",
    "    if k * k == n:            # special case if n is perfect square. \n",
    "        yield k "
   ]
  },
  {
   "cell_type": "markdown",
   "id": "meaning-rhythm",
   "metadata": {},
   "source": [
    "Giải thích đoạn code ở trên: Ta biết rằng số ước số nhỏ hơn sqrt(n) bằng với số ước số lớn hơn sqrt(n), vì thế nếu n = km, thì cả k và n đều là ước số của n, và một số nhỏ hơn sqrt(n), một số lớn hơn sqrt(n). Vì vậy ta chỉ cần lặp đến sqrt(n), và nếu k là ước của n thì n // k cũng là ước của n. Trường hợp đặc biệt là n là số chính phương, khi đó ta sẽ chỉ có một câu lệnh yield k thôi, vì n // k cũng bằng chính k, và vì nó là trường hợp cuối cùng nên ta sẽ tách nó ra một câu lệnh riêng để thực thi."
   ]
  },
  {
   "cell_type": "markdown",
   "id": "diagnostic-disclosure",
   "metadata": {},
   "source": [
    "Chú ý: các ước số của generator ở trên sẽ không được tạo ra theo thứ tự tăng dần. "
   ]
  },
  {
   "cell_type": "markdown",
   "id": "national-lunch",
   "metadata": {},
   "source": [
    "Lấy ví dụ với 100, thì factors(100) sẽ tạo ra dãy 1, 100, 2, 50, 4, 25, 5, 20, 10. "
   ]
  },
  {
   "cell_type": "code",
   "execution_count": 5,
   "id": "appropriate-respect",
   "metadata": {},
   "outputs": [
    {
     "data": {
      "text/plain": [
       "<generator object factors at 0x0000022382C08BA0>"
      ]
     },
     "execution_count": 5,
     "metadata": {},
     "output_type": "execute_result"
    }
   ],
   "source": [
    "factors(100)"
   ]
  },
  {
   "cell_type": "markdown",
   "id": "foreign-moscow",
   "metadata": {},
   "source": [
    "Ngoài lề tí: Với ý tưởng của generator factors ở trên, thì ta có thể viết một hàm kiểm tra một số n có là số chính phương không, mà không sử dụng các hàm có sẵn, chỉ sử dụng 4 phép toán cơ bản là cộng, trừ, nhân, chia."
   ]
  },
  {
   "cell_type": "code",
   "execution_count": 6,
   "id": "secure-cherry",
   "metadata": {},
   "outputs": [],
   "source": [
    "def perfectSquare(n): \n",
    "    k = 2 \n",
    "    while k * k < n: \n",
    "        k += 1\n",
    "    \n",
    "    if k * k == n: \n",
    "        return '%d là số chính phương' % (n)\n",
    "    \n",
    "    return '%d không là số chính phương' % (n)"
   ]
  },
  {
   "cell_type": "code",
   "execution_count": 7,
   "id": "stuffed-movement",
   "metadata": {},
   "outputs": [
    {
     "data": {
      "text/plain": [
       "'100 là số chính phương'"
      ]
     },
     "execution_count": 7,
     "metadata": {},
     "output_type": "execute_result"
    }
   ],
   "source": [
    "perfectSquare(100)"
   ]
  },
  {
   "cell_type": "code",
   "execution_count": 8,
   "id": "advisory-reporter",
   "metadata": {},
   "outputs": [
    {
     "data": {
      "text/plain": [
       "'20 không là số chính phương'"
      ]
     },
     "execution_count": 8,
     "metadata": {},
     "output_type": "execute_result"
    }
   ],
   "source": [
    "perfectSquare(20)"
   ]
  },
  {
   "cell_type": "markdown",
   "id": "informed-arizona",
   "metadata": {},
   "source": [
    "Tương tự, ta có thể viết một hàm để kiểm tra số n có là số nguyên tố hay không mà chỉ sử dụng bốn phép toán cơ bản."
   ]
  },
  {
   "cell_type": "code",
   "execution_count": 9,
   "id": "elementary-blake",
   "metadata": {},
   "outputs": [],
   "source": [
    "def primeNumber(n): \n",
    "    k = 2\n",
    "    while k * k <= n: \n",
    "        if n % k == 0: \n",
    "            return '%d không là số nguyên tố' % (n)\n",
    "        k += 1\n",
    "    \n",
    "    return '%d là số nguyên tố' % (n)"
   ]
  },
  {
   "cell_type": "code",
   "execution_count": 10,
   "id": "essential-weather",
   "metadata": {},
   "outputs": [
    {
     "data": {
      "text/plain": [
       "'100 không là số nguyên tố'"
      ]
     },
     "execution_count": 10,
     "metadata": {},
     "output_type": "execute_result"
    }
   ],
   "source": [
    "primeNumber(100)"
   ]
  },
  {
   "cell_type": "code",
   "execution_count": 11,
   "id": "tested-upper",
   "metadata": {},
   "outputs": [
    {
     "data": {
      "text/plain": [
       "'50 không là số nguyên tố'"
      ]
     },
     "execution_count": 11,
     "metadata": {},
     "output_type": "execute_result"
    }
   ],
   "source": [
    "primeNumber(50)"
   ]
  },
  {
   "cell_type": "code",
   "execution_count": 12,
   "id": "geological-activity",
   "metadata": {},
   "outputs": [
    {
     "data": {
      "text/plain": [
       "'23 là số nguyên tố'"
      ]
     },
     "execution_count": 12,
     "metadata": {},
     "output_type": "execute_result"
    }
   ],
   "source": [
    "primeNumber(23)"
   ]
  },
  {
   "cell_type": "code",
   "execution_count": 16,
   "id": "attractive-special",
   "metadata": {},
   "outputs": [
    {
     "data": {
      "text/plain": [
       "'831 không là số nguyên tố'"
      ]
     },
     "execution_count": 16,
     "metadata": {},
     "output_type": "execute_result"
    }
   ],
   "source": [
    "primeNumber(831)"
   ]
  },
  {
   "cell_type": "markdown",
   "id": "jewish-chambers",
   "metadata": {},
   "source": [
    "- Lợi ích khi sử dụng generator thay vì hàm truyền thống: các kết quả sẽ chỉ được tính nếu được yêu cầu, và toàn bộ series không cần phải lưu ở trong bộ nhớ cùng một lúc"
   ]
  },
  {
   "cell_type": "markdown",
   "id": "handled-coffee",
   "metadata": {},
   "source": [
    "Hơn nữa, generator có thể tạo ra một dãy vô hạn các giá trị. Nếu so sánh với việc dùng list thì cách làm này trông phức tạp hơn nhiều. "
   ]
  },
  {
   "cell_type": "markdown",
   "id": "empty-tracy",
   "metadata": {},
   "source": [
    "Ví dụ: tạo dãy số Fibonacci vô hạn:"
   ]
  },
  {
   "cell_type": "code",
   "execution_count": 17,
   "id": "global-johnston",
   "metadata": {},
   "outputs": [],
   "source": [
    "def fibonacci(): \n",
    "    a = 0 \n",
    "    b = 1\n",
    "    while True:            # keep going...\n",
    "        yield a            # report value, a, during this pass \n",
    "        future = a + b \n",
    "        a = b              # this will be next value reported\n",
    "        b = future         # and subsequently this "
   ]
  },
  {
   "cell_type": "markdown",
   "id": "driven-limitation",
   "metadata": {},
   "source": [
    "## Vấn đề ứng dụng: Kết hợp Generator với Iterator"
   ]
  },
  {
   "cell_type": "markdown",
   "id": "accessible-socket",
   "metadata": {},
   "source": [
    "Một hàm đơn giản để có thể lấy được các giá trị trong generator:"
   ]
  },
  {
   "cell_type": "code",
   "execution_count": 1,
   "id": "abstract-wheat",
   "metadata": {},
   "outputs": [],
   "source": [
    "def simpleGeneratorFun(): \n",
    "    yield 1 \n",
    "    yield 2 \n",
    "    yield 3"
   ]
  },
  {
   "cell_type": "code",
   "execution_count": 2,
   "id": "incorrect-atlantic",
   "metadata": {},
   "outputs": [
    {
     "name": "stdout",
     "output_type": "stream",
     "text": [
      "1\n",
      "2\n",
      "3\n"
     ]
    }
   ],
   "source": [
    "for value in simpleGeneratorFun(): \n",
    "    print(value)"
   ]
  },
  {
   "cell_type": "markdown",
   "id": "sunrise-bankruptcy",
   "metadata": {},
   "source": [
    "Ta đã biết là hàm generator trả vè một generator object, khi đó ta có thể sử dụng generator object bằng hai cách: sử dụng gene object trong một vòng lặp for (như ở ví dụ trên) hoặc gọi method lên gene object."
   ]
  },
  {
   "cell_type": "markdown",
   "id": "polish-attitude",
   "metadata": {},
   "source": [
    "Ví dụ về gọi method lên gene object:"
   ]
  },
  {
   "cell_type": "code",
   "execution_count": 3,
   "id": "governing-tender",
   "metadata": {},
   "outputs": [],
   "source": [
    "def simpleGeneratorFun(): \n",
    "    yield 1 \n",
    "    yield 2 \n",
    "    yield 3"
   ]
  },
  {
   "cell_type": "code",
   "execution_count": 5,
   "id": "functioning-saturday",
   "metadata": {},
   "outputs": [],
   "source": [
    "x = simpleGeneratorFun()  # x is generator object. "
   ]
  },
  {
   "cell_type": "code",
   "execution_count": 9,
   "id": "divided-screen",
   "metadata": {},
   "outputs": [
    {
     "data": {
      "text/plain": [
       "1"
      ]
     },
     "execution_count": 9,
     "metadata": {},
     "output_type": "execute_result"
    }
   ],
   "source": [
    "next(x)"
   ]
  },
  {
   "cell_type": "code",
   "execution_count": 10,
   "id": "strange-malaysia",
   "metadata": {},
   "outputs": [
    {
     "name": "stdout",
     "output_type": "stream",
     "text": [
      "2\n"
     ]
    }
   ],
   "source": [
    "print(next(x))"
   ]
  },
  {
   "cell_type": "code",
   "execution_count": 11,
   "id": "equipped-feedback",
   "metadata": {},
   "outputs": [
    {
     "name": "stdout",
     "output_type": "stream",
     "text": [
      "3\n"
     ]
    }
   ],
   "source": [
    "print(next(x))"
   ]
  },
  {
   "cell_type": "code",
   "execution_count": 12,
   "id": "geographic-johnson",
   "metadata": {},
   "outputs": [
    {
     "ename": "StopIteration",
     "evalue": "",
     "output_type": "error",
     "traceback": [
      "\u001b[1;31m---------------------------------------------------------------------------\u001b[0m",
      "\u001b[1;31mStopIteration\u001b[0m                             Traceback (most recent call last)",
      "\u001b[1;32m<ipython-input-12-ff675a2ee99e>\u001b[0m in \u001b[0;36m<module>\u001b[1;34m\u001b[0m\n\u001b[1;32m----> 1\u001b[1;33m \u001b[0mprint\u001b[0m\u001b[1;33m(\u001b[0m\u001b[0mnext\u001b[0m\u001b[1;33m(\u001b[0m\u001b[0mx\u001b[0m\u001b[1;33m)\u001b[0m\u001b[1;33m)\u001b[0m\u001b[1;33m\u001b[0m\u001b[1;33m\u001b[0m\u001b[0m\n\u001b[0m",
      "\u001b[1;31mStopIteration\u001b[0m: "
     ]
    }
   ],
   "source": [
    "print(next(x))  # hết phần tử => raise StopIteration. "
   ]
  },
  {
   "cell_type": "markdown",
   "id": "alive-weapon",
   "metadata": {},
   "source": [
    "=> Một hàm generator trả về một generator object mà có thể lặp được (iterable), và vì thế có thể được sử dụng như là một Iterator. ."
   ]
  },
  {
   "cell_type": "markdown",
   "id": "numeric-kitchen",
   "metadata": {},
   "source": [
    "Ví dụ 2: Dãy Fibonacci có giới hạn."
   ]
  },
  {
   "cell_type": "code",
   "execution_count": 18,
   "id": "athletic-color",
   "metadata": {},
   "outputs": [],
   "source": [
    "def Fibonacci(limit): \n",
    "    a, b = 0, 1\n",
    "    \n",
    "    while a < limit: \n",
    "        yield a \n",
    "        a, b = b, a + b \n",
    "        "
   ]
  },
  {
   "cell_type": "code",
   "execution_count": 19,
   "id": "parallel-printer",
   "metadata": {},
   "outputs": [],
   "source": [
    "x = Fibonacci(5)  # create generator object."
   ]
  },
  {
   "cell_type": "code",
   "execution_count": 20,
   "id": "negative-possibility",
   "metadata": {},
   "outputs": [
    {
     "name": "stdout",
     "output_type": "stream",
     "text": [
      "0\n",
      "1\n",
      "1\n",
      "2\n",
      "3\n"
     ]
    }
   ],
   "source": [
    "for value in x: \n",
    "    print(value)"
   ]
  },
  {
   "cell_type": "code",
   "execution_count": 22,
   "id": "reduced-lighter",
   "metadata": {},
   "outputs": [
    {
     "ename": "StopIteration",
     "evalue": "",
     "output_type": "error",
     "traceback": [
      "\u001b[1;31m---------------------------------------------------------------------------\u001b[0m",
      "\u001b[1;31mStopIteration\u001b[0m                             Traceback (most recent call last)",
      "\u001b[1;32m<ipython-input-22-ff675a2ee99e>\u001b[0m in \u001b[0;36m<module>\u001b[1;34m\u001b[0m\n\u001b[1;32m----> 1\u001b[1;33m \u001b[0mprint\u001b[0m\u001b[1;33m(\u001b[0m\u001b[0mnext\u001b[0m\u001b[1;33m(\u001b[0m\u001b[0mx\u001b[0m\u001b[1;33m)\u001b[0m\u001b[1;33m)\u001b[0m\u001b[1;33m\u001b[0m\u001b[1;33m\u001b[0m\u001b[0m\n\u001b[0m",
      "\u001b[1;31mStopIteration\u001b[0m: "
     ]
    }
   ],
   "source": [
    "print(next(x))   # khi đã lặp hết giá trị thì giá trị tiêp theo sẽ là StopIteration."
   ]
  },
  {
   "cell_type": "markdown",
   "id": "horizontal-harvey",
   "metadata": {},
   "source": [
    "Applications : Suppose we to create a stream of Fibonacci numbers, adopting the generator approach makes it trivial; we just have to call next(x) to get the next Fibonacci number without bothering about where or when the stream of numbers ends.\n",
    "A more practical type of stream processing is handling large data files such as log files. Generators provide a space efficient method for such data processing as only parts of the file are handled at one given point in time. We can also use Iterators for these purposes, but Generator provides a quick way (We don’t need to write __next__ and __iter__ methods here)."
   ]
  },
  {
   "cell_type": "code",
   "execution_count": null,
   "id": "wicked-coverage",
   "metadata": {},
   "outputs": [],
   "source": []
  }
 ],
 "metadata": {
  "kernelspec": {
   "display_name": "Python 3",
   "language": "python",
   "name": "python3"
  },
  "language_info": {
   "codemirror_mode": {
    "name": "ipython",
    "version": 3
   },
   "file_extension": ".py",
   "mimetype": "text/x-python",
   "name": "python",
   "nbconvert_exporter": "python",
   "pygments_lexer": "ipython3",
   "version": "3.8.3"
  }
 },
 "nbformat": 4,
 "nbformat_minor": 5
}
