{
 "cells": [
  {
   "cell_type": "markdown",
   "id": "stuck-spain",
   "metadata": {},
   "source": [
    "# 1. Source: W3S "
   ]
  },
  {
   "cell_type": "markdown",
   "id": "blocked-symphony",
   "metadata": {},
   "source": [
    "## 1.1 Python Iterators"
   ]
  },
  {
   "cell_type": "markdown",
   "id": "automated-answer",
   "metadata": {},
   "source": [
    "- Iterator là một object chứa một số lượng đếm được các giá trị."
   ]
  },
  {
   "cell_type": "markdown",
   "id": "cloudy-collect",
   "metadata": {},
   "source": [
    "- Iterator là một object là có thể được lặp (iterated), nghĩa là ta có thể đi qua (traverse) tất cả các giá trị."
   ]
  },
  {
   "cell_type": "markdown",
   "id": "historic-cathedral",
   "metadata": {},
   "source": [
    "Trong Python, iterator là một object thực hiện giao thức lặp (iterator protocol), bao gồm 2 method là: \n",
    "- \\_\\_iter()\\_\\_\n",
    "- \\_\\_next()\\_\\_"
   ]
  },
  {
   "cell_type": "markdown",
   "id": "interracial-indication",
   "metadata": {},
   "source": [
    "## 1.2. Iterator (đối tượng lặp) vs Iterable (có thể lặp được)"
   ]
  },
  {
   "cell_type": "markdown",
   "id": "informative-match",
   "metadata": {},
   "source": [
    "List, tuple, dictionary, set đều là các đối tượng lặp được (iterable objects). Ta có thể lấy iterator từ chúng."
   ]
  },
  {
   "cell_type": "markdown",
   "id": "funded-medication",
   "metadata": {},
   "source": [
    "- Tất cả các object trên đều có phương thức iter(): được sử dụng để lấy iterator."
   ]
  },
  {
   "cell_type": "markdown",
   "id": "straight-universal",
   "metadata": {},
   "source": [
    "Ví dụ 1:"
   ]
  },
  {
   "cell_type": "code",
   "execution_count": 2,
   "id": "developmental-gauge",
   "metadata": {},
   "outputs": [],
   "source": [
    "myTuple = ('apple', 'banana', 'cherry')"
   ]
  },
  {
   "cell_type": "code",
   "execution_count": 5,
   "id": "worst-influence",
   "metadata": {},
   "outputs": [],
   "source": [
    "myIt = iter(myTuple)  # return an iterator object from myTuple."
   ]
  },
  {
   "cell_type": "code",
   "execution_count": 6,
   "id": "universal-weight",
   "metadata": {},
   "outputs": [
    {
     "data": {
      "text/plain": [
       "<tuple_iterator at 0x20385a6b490>"
      ]
     },
     "execution_count": 6,
     "metadata": {},
     "output_type": "execute_result"
    }
   ],
   "source": [
    "myIt"
   ]
  },
  {
   "cell_type": "code",
   "execution_count": 7,
   "id": "awful-accessory",
   "metadata": {},
   "outputs": [
    {
     "data": {
      "text/plain": [
       "'apple'"
      ]
     },
     "execution_count": 7,
     "metadata": {},
     "output_type": "execute_result"
    }
   ],
   "source": [
    "next(myIt)   # get the first value."
   ]
  },
  {
   "cell_type": "code",
   "execution_count": 8,
   "id": "known-hunter",
   "metadata": {},
   "outputs": [
    {
     "data": {
      "text/plain": [
       "'banana'"
      ]
     },
     "execution_count": 8,
     "metadata": {},
     "output_type": "execute_result"
    }
   ],
   "source": [
    "next(myIt)  # get the second value."
   ]
  },
  {
   "cell_type": "code",
   "execution_count": 9,
   "id": "nervous-punch",
   "metadata": {},
   "outputs": [
    {
     "data": {
      "text/plain": [
       "'cherry'"
      ]
     },
     "execution_count": 9,
     "metadata": {},
     "output_type": "execute_result"
    }
   ],
   "source": [
    "next(myIt)  # get the third value."
   ]
  },
  {
   "cell_type": "code",
   "execution_count": 10,
   "id": "large-morgan",
   "metadata": {},
   "outputs": [
    {
     "ename": "StopIteration",
     "evalue": "",
     "output_type": "error",
     "traceback": [
      "\u001b[1;31m---------------------------------------------------------------------------\u001b[0m",
      "\u001b[1;31mStopIteration\u001b[0m                             Traceback (most recent call last)",
      "\u001b[1;32m<ipython-input-10-7ecd413c8e08>\u001b[0m in \u001b[0;36m<module>\u001b[1;34m\u001b[0m\n\u001b[1;32m----> 1\u001b[1;33m \u001b[0mnext\u001b[0m\u001b[1;33m(\u001b[0m\u001b[0mmyIt\u001b[0m\u001b[1;33m)\u001b[0m\u001b[1;33m\u001b[0m\u001b[1;33m\u001b[0m\u001b[0m\n\u001b[0m",
      "\u001b[1;31mStopIteration\u001b[0m: "
     ]
    }
   ],
   "source": [
    "next(myIt)"
   ]
  },
  {
   "cell_type": "markdown",
   "id": "measured-property",
   "metadata": {},
   "source": [
    "- String cũng là một iterable object, và vì thế có thể trả về một iterator."
   ]
  },
  {
   "cell_type": "markdown",
   "id": "healthy-touch",
   "metadata": {},
   "source": [
    "Ví dụ:"
   ]
  },
  {
   "cell_type": "code",
   "execution_count": 11,
   "id": "destroyed-processing",
   "metadata": {},
   "outputs": [],
   "source": [
    "myStr = 'banana'"
   ]
  },
  {
   "cell_type": "code",
   "execution_count": 12,
   "id": "hidden-gibraltar",
   "metadata": {},
   "outputs": [],
   "source": [
    "myIt = iter(myStr)  # return an iterator object."
   ]
  },
  {
   "cell_type": "code",
   "execution_count": 13,
   "id": "naughty-thread",
   "metadata": {},
   "outputs": [
    {
     "name": "stdout",
     "output_type": "stream",
     "text": [
      "b\n"
     ]
    }
   ],
   "source": [
    "print(next(myIt))"
   ]
  },
  {
   "cell_type": "code",
   "execution_count": 14,
   "id": "descending-result",
   "metadata": {},
   "outputs": [
    {
     "data": {
      "text/plain": [
       "'a'"
      ]
     },
     "execution_count": 14,
     "metadata": {},
     "output_type": "execute_result"
    }
   ],
   "source": [
    "next(myIt)"
   ]
  },
  {
   "cell_type": "markdown",
   "id": "normal-sacrifice",
   "metadata": {},
   "source": [
    "- Lặp qua 6 ký tự là dừng."
   ]
  },
  {
   "cell_type": "markdown",
   "id": "incoming-chocolate",
   "metadata": {},
   "source": [
    "## 1.3. Lặp qua một iterator"
   ]
  },
  {
   "cell_type": "markdown",
   "id": "spread-south",
   "metadata": {},
   "source": [
    "- Ta sử dụng vòng lặp for để lặp qua một iterable object."
   ]
  },
  {
   "cell_type": "markdown",
   "id": "democratic-cradle",
   "metadata": {},
   "source": [
    "Ví dụ: Lặp qua tuple"
   ]
  },
  {
   "cell_type": "code",
   "execution_count": 15,
   "id": "burning-hunger",
   "metadata": {},
   "outputs": [],
   "source": [
    "mytuple = ('apple', 'banana', 'cherry')"
   ]
  },
  {
   "cell_type": "code",
   "execution_count": 16,
   "id": "aggregate-north",
   "metadata": {},
   "outputs": [
    {
     "name": "stdout",
     "output_type": "stream",
     "text": [
      "apple\n",
      "banana\n",
      "cherry\n"
     ]
    }
   ],
   "source": [
    "for x in mytuple: \n",
    "    print(x)"
   ]
  },
  {
   "cell_type": "markdown",
   "id": "later-celebrity",
   "metadata": {},
   "source": [
    "Ví dụ: Lặp qua string"
   ]
  },
  {
   "cell_type": "code",
   "execution_count": 17,
   "id": "tribal-amsterdam",
   "metadata": {},
   "outputs": [],
   "source": [
    "mystr = 'banana'"
   ]
  },
  {
   "cell_type": "code",
   "execution_count": 18,
   "id": "separated-crazy",
   "metadata": {},
   "outputs": [
    {
     "name": "stdout",
     "output_type": "stream",
     "text": [
      "b\n",
      "a\n",
      "n\n",
      "a\n",
      "n\n",
      "a\n"
     ]
    }
   ],
   "source": [
    "for x in mystr: \n",
    "    print(x)"
   ]
  },
  {
   "cell_type": "markdown",
   "id": "disturbed-techno",
   "metadata": {},
   "source": [
    "Giải thích: bản chất ở đây là vòng lặp for đã tạo ra một iterator object và thực thi phương thức next() đối với mỗi vòng lặp."
   ]
  },
  {
   "cell_type": "markdown",
   "id": "unique-remove",
   "metadata": {},
   "source": [
    "## 1.4. Tạo iterator"
   ]
  },
  {
   "cell_type": "markdown",
   "id": "solid-serum",
   "metadata": {},
   "source": [
    "- Để tạo một object/class như là một iterator, ta phải thực hiện method \\_\\_iter()\\_\\_ và \\_\\_next()\\_\\_ cho object của ta.\n",
    "- iter() giống hàm init(), và cuối cùng phải trả về iterator object.\n",
    "- next() phải trả về phần tử tiếp theo trong dãy (sequence)."
   ]
  },
  {
   "cell_type": "markdown",
   "id": "bored-watson",
   "metadata": {},
   "source": [
    "Ví dụ: Tạo một iterator trả về các số, bắt đầu từ 1, mỗi dãy sẽ tăng lên 1 (1, 2, 3, 4, 5, ...)"
   ]
  },
  {
   "cell_type": "code",
   "execution_count": 30,
   "id": "outer-amateur",
   "metadata": {},
   "outputs": [],
   "source": [
    "class myNumbers: \n",
    "    def __iter__(self):  # create iter() method.\n",
    "        self.a = 1 \n",
    "        return self \n",
    "    def __next__(self):  # create next() method. \n",
    "        x = self.a   # gán giá trị self.a vào biến x (x = 1)\n",
    "        self.a +=1   # tăng self.a lên một đơn vị (lúc này, self.a = 2)\n",
    "        return x "
   ]
  },
  {
   "cell_type": "code",
   "execution_count": 31,
   "id": "advised-camel",
   "metadata": {},
   "outputs": [],
   "source": [
    "myclass = myNumbers()  # return a class."
   ]
  },
  {
   "cell_type": "code",
   "execution_count": 32,
   "id": "subtle-paris",
   "metadata": {},
   "outputs": [],
   "source": [
    "myiter = iter(myclass)  # return an iterator."
   ]
  },
  {
   "cell_type": "code",
   "execution_count": 34,
   "id": "noble-guinea",
   "metadata": {},
   "outputs": [
    {
     "data": {
      "text/plain": [
       "2"
      ]
     },
     "execution_count": 34,
     "metadata": {},
     "output_type": "execute_result"
    }
   ],
   "source": [
    "next(myiter)"
   ]
  },
  {
   "cell_type": "code",
   "execution_count": 36,
   "id": "further-membership",
   "metadata": {},
   "outputs": [
    {
     "data": {
      "text/plain": [
       "3"
      ]
     },
     "execution_count": 36,
     "metadata": {},
     "output_type": "execute_result"
    }
   ],
   "source": [
    "next(myiter)"
   ]
  },
  {
   "cell_type": "code",
   "execution_count": 37,
   "id": "magnetic-theology",
   "metadata": {},
   "outputs": [
    {
     "data": {
      "text/plain": [
       "4"
      ]
     },
     "execution_count": 37,
     "metadata": {},
     "output_type": "execute_result"
    }
   ],
   "source": [
    "next(myiter)"
   ]
  },
  {
   "cell_type": "markdown",
   "id": "accepting-directive",
   "metadata": {},
   "source": [
    "## 1.5. StopIteration"
   ]
  },
  {
   "cell_type": "markdown",
   "id": "endangered-warner",
   "metadata": {},
   "source": [
    "Ví dụ trên sẽ chạy mãi mãi nếu ta cứ sử dụng câu lệnh next như thế, hoặc ta sử dụng một vòng lặp for. Để ngăn cản điều đó, ta sử dụng lệnh StopIteration. Cụ thể là trong method next(), ta có thể thêm điều kiện dừng để raise an error nếu số vòng lặp đạt đến một số nào đó."
   ]
  },
  {
   "cell_type": "markdown",
   "id": "chemical-nomination",
   "metadata": {},
   "source": [
    "Ví dụ: "
   ]
  },
  {
   "cell_type": "code",
   "execution_count": 38,
   "id": "express-poster",
   "metadata": {},
   "outputs": [],
   "source": [
    "class myNumbers(): \n",
    "    def __iter__(self): \n",
    "        self.a = 1\n",
    "        return self\n",
    "    \n",
    "    def __next__(self): \n",
    "        if self.a <= 20:   # điều kiện dừng\n",
    "            x = self.a \n",
    "            self.a += 1\n",
    "            return x\n",
    "        else: \n",
    "            raise StopIteration "
   ]
  },
  {
   "cell_type": "code",
   "execution_count": 39,
   "id": "scheduled-austria",
   "metadata": {},
   "outputs": [],
   "source": [
    "myclass = myNumbers()  # create myNumbers object."
   ]
  },
  {
   "cell_type": "code",
   "execution_count": 40,
   "id": "postal-sacrifice",
   "metadata": {},
   "outputs": [],
   "source": [
    "myiter = iter(myclass)  # return an iterator."
   ]
  },
  {
   "cell_type": "code",
   "execution_count": 41,
   "id": "applied-accordance",
   "metadata": {},
   "outputs": [
    {
     "name": "stdout",
     "output_type": "stream",
     "text": [
      "1 2 3 4 5 6 7 8 9 10 11 12 13 14 15 16 17 18 19 20 "
     ]
    }
   ],
   "source": [
    "for x in myiter: \n",
    "    print(x, end=' ')"
   ]
  },
  {
   "cell_type": "code",
   "execution_count": null,
   "id": "defined-crisis",
   "metadata": {},
   "outputs": [],
   "source": []
  }
 ],
 "metadata": {
  "kernelspec": {
   "display_name": "Python 3",
   "language": "python",
   "name": "python3"
  },
  "language_info": {
   "codemirror_mode": {
    "name": "ipython",
    "version": 3
   },
   "file_extension": ".py",
   "mimetype": "text/x-python",
   "name": "python",
   "nbconvert_exporter": "python",
   "pygments_lexer": "ipython3",
   "version": "3.8.3"
  }
 },
 "nbformat": 4,
 "nbformat_minor": 5
}
