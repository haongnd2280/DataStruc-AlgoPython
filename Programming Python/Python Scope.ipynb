{
 "cells": [
  {
   "cell_type": "markdown",
   "id": "afraid-pollution",
   "metadata": {},
   "source": [
    "Một biến chỉ availale ở trong vùng mà nó được tạo. Đó được gọi là scope."
   ]
  },
  {
   "cell_type": "markdown",
   "id": "documentary-looking",
   "metadata": {},
   "source": [
    "# Local Scope"
   ]
  },
  {
   "cell_type": "markdown",
   "id": "lined-laptop",
   "metadata": {},
   "source": [
    "Một biến được tạo ở bên trong một hàm chỉ có thể được sử dụng ở bên trong hàm đó."
   ]
  },
  {
   "cell_type": "markdown",
   "id": "bridal-peeing",
   "metadata": {},
   "source": [
    "Ví dụ: "
   ]
  },
  {
   "cell_type": "code",
   "execution_count": 2,
   "id": "literary-lending",
   "metadata": {},
   "outputs": [],
   "source": [
    "def myFunc(): \n",
    "    x = 300 \n",
    "    print(x)"
   ]
  },
  {
   "cell_type": "code",
   "execution_count": 3,
   "id": "caring-couple",
   "metadata": {},
   "outputs": [
    {
     "name": "stdout",
     "output_type": "stream",
     "text": [
      "300\n"
     ]
    }
   ],
   "source": [
    "myFunc()"
   ]
  },
  {
   "cell_type": "markdown",
   "id": "seven-burden",
   "metadata": {},
   "source": [
    "# Function inside funtion"
   ]
  },
  {
   "cell_type": "markdown",
   "id": "sticky-pharmacology",
   "metadata": {},
   "source": [
    "Một biến được tạo trong một hàm không available ngoài hàm đó, tuy nhiên nó lại available trong mọi hàm ở bên trong hàm đó. "
   ]
  },
  {
   "cell_type": "markdown",
   "id": "rational-railway",
   "metadata": {},
   "source": [
    "Ví dụ: "
   ]
  },
  {
   "cell_type": "code",
   "execution_count": 4,
   "id": "acute-gilbert",
   "metadata": {},
   "outputs": [],
   "source": [
    "def myFunc(): \n",
    "    x = 300 \n",
    "    def myInnerFunc(): \n",
    "        print(x)\n",
    "    myInnerFunc()"
   ]
  },
  {
   "cell_type": "code",
   "execution_count": 5,
   "id": "downtown-contamination",
   "metadata": {},
   "outputs": [
    {
     "name": "stdout",
     "output_type": "stream",
     "text": [
      "300\n"
     ]
    }
   ],
   "source": [
    "myFunc()"
   ]
  },
  {
   "cell_type": "markdown",
   "id": "mobile-seller",
   "metadata": {},
   "source": [
    "# Global Scope"
   ]
  },
  {
   "cell_type": "markdown",
   "id": "instructional-guess",
   "metadata": {},
   "source": [
    "Như ta vẫn thường nghĩ. "
   ]
  },
  {
   "cell_type": "code",
   "execution_count": 6,
   "id": "numerical-encounter",
   "metadata": {},
   "outputs": [],
   "source": [
    "x = 300 \n",
    "def myFunc(): \n",
    "    print(x)"
   ]
  },
  {
   "cell_type": "code",
   "execution_count": 7,
   "id": "conditional-collaboration",
   "metadata": {},
   "outputs": [
    {
     "name": "stdout",
     "output_type": "stream",
     "text": [
      "300\n"
     ]
    }
   ],
   "source": [
    "myFunc()"
   ]
  },
  {
   "cell_type": "markdown",
   "id": "killing-powder",
   "metadata": {},
   "source": [
    "# Naming variables"
   ]
  },
  {
   "cell_type": "markdown",
   "id": "statutory-joshua",
   "metadata": {},
   "source": [
    "Nếu ta đặt tên 2 biến có cùng tên với nhau, một biến local scope và một biến global scope, thì Python sẽ coi chúng là hai biến khác nhau, một biến available global scope còn một biến available local scope."
   ]
  },
  {
   "cell_type": "markdown",
   "id": "dependent-microwave",
   "metadata": {},
   "source": [
    "Ví dụ: "
   ]
  },
  {
   "cell_type": "code",
   "execution_count": 8,
   "id": "italian-metadata",
   "metadata": {},
   "outputs": [],
   "source": [
    "x = 300\n",
    "\n",
    "def myFunc(): \n",
    "    x = 200 \n",
    "    print(x)"
   ]
  },
  {
   "cell_type": "code",
   "execution_count": 9,
   "id": "prospective-knowing",
   "metadata": {},
   "outputs": [
    {
     "name": "stdout",
     "output_type": "stream",
     "text": [
      "200\n"
     ]
    }
   ],
   "source": [
    "myFunc()"
   ]
  },
  {
   "cell_type": "code",
   "execution_count": 10,
   "id": "analyzed-briefing",
   "metadata": {},
   "outputs": [
    {
     "data": {
      "text/plain": [
       "300"
      ]
     },
     "execution_count": 10,
     "metadata": {},
     "output_type": "execute_result"
    }
   ],
   "source": [
    "x"
   ]
  },
  {
   "cell_type": "markdown",
   "id": "cardiac-essex",
   "metadata": {},
   "source": [
    "# Global keyword"
   ]
  },
  {
   "cell_type": "markdown",
   "id": "swiss-stranger",
   "metadata": {},
   "source": [
    "Nếu ta muốn tạo một biến global, nhưng bị stuck (mắc kẹt) trong local scope, thì ta có thể sử dụng từ khóa global. Từ khóa global làm cho biến đó global."
   ]
  },
  {
   "cell_type": "code",
   "execution_count": 15,
   "id": "capital-haven",
   "metadata": {},
   "outputs": [],
   "source": [
    "def myFunc(): \n",
    "    global y \n",
    "    y = 300"
   ]
  },
  {
   "cell_type": "code",
   "execution_count": 16,
   "id": "everyday-progress",
   "metadata": {},
   "outputs": [],
   "source": [
    "myFunc()"
   ]
  },
  {
   "cell_type": "code",
   "execution_count": 17,
   "id": "forty-telling",
   "metadata": {},
   "outputs": [
    {
     "data": {
      "text/plain": [
       "300"
      ]
     },
     "execution_count": 17,
     "metadata": {},
     "output_type": "execute_result"
    }
   ],
   "source": [
    "y"
   ]
  },
  {
   "cell_type": "markdown",
   "id": "overall-liechtenstein",
   "metadata": {},
   "source": [
    "Để thay đổi giá trị của một global variable trong một hàm, tham chiếu (refer) đến biến đó bằng từ khóa global rồi gán giá trị mới cho nó."
   ]
  },
  {
   "cell_type": "code",
   "execution_count": 18,
   "id": "operational-appliance",
   "metadata": {},
   "outputs": [],
   "source": [
    "x = 500 \n",
    "\n",
    "def myFunc(): \n",
    "    global x \n",
    "    x = 200 "
   ]
  },
  {
   "cell_type": "code",
   "execution_count": 19,
   "id": "interested-massachusetts",
   "metadata": {},
   "outputs": [],
   "source": [
    "myFunc()"
   ]
  },
  {
   "cell_type": "code",
   "execution_count": 20,
   "id": "electric-reservoir",
   "metadata": {},
   "outputs": [
    {
     "data": {
      "text/plain": [
       "200"
      ]
     },
     "execution_count": 20,
     "metadata": {},
     "output_type": "execute_result"
    }
   ],
   "source": [
    "x"
   ]
  },
  {
   "cell_type": "code",
   "execution_count": null,
   "id": "female-highway",
   "metadata": {},
   "outputs": [],
   "source": []
  }
 ],
 "metadata": {
  "kernelspec": {
   "display_name": "Python 3",
   "language": "python",
   "name": "python3"
  },
  "language_info": {
   "codemirror_mode": {
    "name": "ipython",
    "version": 3
   },
   "file_extension": ".py",
   "mimetype": "text/x-python",
   "name": "python",
   "nbconvert_exporter": "python",
   "pygments_lexer": "ipython3",
   "version": "3.8.3"
  }
 },
 "nbformat": 4,
 "nbformat_minor": 5
}
