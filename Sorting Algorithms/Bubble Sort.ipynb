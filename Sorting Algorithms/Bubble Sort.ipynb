{
 "cells": [
  {
   "cell_type": "markdown",
   "id": "grand-sister",
   "metadata": {},
   "source": [
    "So sánh liên tiếp hai phần tử kể nhau, sắp xếp theo thứ tự tăng dần."
   ]
  },
  {
   "cell_type": "code",
   "execution_count": 3,
   "id": "existing-norman",
   "metadata": {},
   "outputs": [],
   "source": [
    "def bubbleSort(nums): \n",
    "    n = len(nums)\n",
    "    \n",
    "    for i in range(n): \n",
    "        for j in range(n - i - 1): \n",
    "            if nums[j] > nums[j + 1]: \n",
    "                nums[j], nums[j + 1] = nums[j + 1], nums[j]\n",
    "                \n",
    "    return nums"
   ]
  },
  {
   "cell_type": "code",
   "execution_count": 4,
   "id": "extended-meaning",
   "metadata": {},
   "outputs": [
    {
     "data": {
      "text/plain": [
       "[1, 2, 3, 4, 5]"
      ]
     },
     "execution_count": 4,
     "metadata": {},
     "output_type": "execute_result"
    }
   ],
   "source": [
    "bubbleSort([3, 2, 4, 1, 5])"
   ]
  },
  {
   "cell_type": "code",
   "execution_count": null,
   "id": "sweet-cancer",
   "metadata": {},
   "outputs": [],
   "source": []
  }
 ],
 "metadata": {
  "kernelspec": {
   "display_name": "Python 3",
   "language": "python",
   "name": "python3"
  },
  "language_info": {
   "codemirror_mode": {
    "name": "ipython",
    "version": 3
   },
   "file_extension": ".py",
   "mimetype": "text/x-python",
   "name": "python",
   "nbconvert_exporter": "python",
   "pygments_lexer": "ipython3",
   "version": "3.8.3"
  }
 },
 "nbformat": 4,
 "nbformat_minor": 5
}
