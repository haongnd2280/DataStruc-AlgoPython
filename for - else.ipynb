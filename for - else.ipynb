{
 "cells": [
  {
   "cell_type": "markdown",
   "id": "finite-healthcare",
   "metadata": {},
   "source": [
    "Ví dụ bt với vòng lặp for:"
   ]
  },
  {
   "cell_type": "code",
   "execution_count": 2,
   "id": "chemical-drain",
   "metadata": {},
   "outputs": [],
   "source": [
    "fruits = ['apple', 'banana', 'mango']"
   ]
  },
  {
   "cell_type": "code",
   "execution_count": 3,
   "id": "superior-alert",
   "metadata": {},
   "outputs": [
    {
     "name": "stdout",
     "output_type": "stream",
     "text": [
      "Apple\n",
      "Banana\n",
      "Mango\n"
     ]
    }
   ],
   "source": [
    "for fruit in fruits: \n",
    "    print(fruit.capitalize())"
   ]
  },
  {
   "cell_type": "markdown",
   "id": "synthetic-performer",
   "metadata": {},
   "source": [
    "- Vòng lặp for cũng có một mệnh đề \"else\". Mệnh đề else sẽ được thực hiện sau khi vòng lặp hoàn thành một cách bình thường: tức, vòng lặp sẽ không thực hiện câu lệnh \"break\" nào."
   ]
  },
  {
   "cell_type": "markdown",
   "id": "cardiovascular-sending",
   "metadata": {},
   "source": [
    "Cách dùng ở đây thường là chạy một vòng lặp và tìm kiếm một phần tử (hoặc kiểm chứng một điều gì đó là đúng hay sai, ...). Nếu tìm thấy phần tử thì ta sẽ thoát ra ngay khỏi vòng lặp bằng câu lênh \"break\". Vì thế, ở đây có hai trường hợp mà vòng lặp có thể kết thúc:\n",
    "- TH1: phần tử được tìm thấy và thực hiện câu lệnh break \n",
    "- TH2: không tìm thấy phần tử => vòng lặp kết thúc mà không thực hiện câu lệnh break. \n",
    "Bây giờ, ta muốn biết trường hợp nào xảy ra khi kết thúc vòng lặp for. Cách thường được sử dụng là sử dụng biến flag và kiểm tra nó khi vòng lặp kết thúc. Và cách khác là sử dụng mệnh đề \"else\"."
   ]
  },
  {
   "cell_type": "markdown",
   "id": "warming-thinking",
   "metadata": {},
   "source": [
    "Cấu trúc chung của vòng lặp for/else: "
   ]
  },
  {
   "cell_type": "code",
   "execution_count": null,
   "id": "environmental-mistake",
   "metadata": {},
   "outputs": [],
   "source": [
    "for item in container:\n",
    "    if search_something(item):\n",
    "        # Found it!\n",
    "        process(item)\n",
    "        break\n",
    "else:\n",
    "    # Didn't find anything..\n",
    "    not_found_in_container()"
   ]
  },
  {
   "cell_type": "markdown",
   "id": "religious-tissue",
   "metadata": {},
   "source": [
    "- Vòng lặp else ở trên sẽ là trường hợp không tìm thấy gì, tương đương với biến flag không thay đổi giá trị ban đầu."
   ]
  },
  {
   "cell_type": "markdown",
   "id": "parental-worker",
   "metadata": {},
   "source": [
    "Ví dụ: Tìm số nguyên tố từ 2 đến 10."
   ]
  },
  {
   "cell_type": "code",
   "execution_count": 5,
   "id": "further-grass",
   "metadata": {},
   "outputs": [
    {
     "name": "stdout",
     "output_type": "stream",
     "text": [
      "2 is a prime number.\n",
      "3 is a prime number.\n",
      "4 equals 2 x 2.0\n",
      "5 is a prime number.\n",
      "6 equals 2 x 3.0\n",
      "7 is a prime number.\n",
      "8 equals 2 x 4.0\n",
      "9 equals 3 x 3.0\n"
     ]
    }
   ],
   "source": [
    "for n in range(2, 10): \n",
    "    for x in range(2, n): \n",
    "        if n % x == 0: \n",
    "            print(n, 'equals', x, 'x', n / x)\n",
    "            break\n",
    "    else: \n",
    "        print(n, 'is a prime number.')"
   ]
  },
  {
   "cell_type": "code",
   "execution_count": null,
   "id": "younger-relative",
   "metadata": {},
   "outputs": [],
   "source": []
  }
 ],
 "metadata": {
  "kernelspec": {
   "display_name": "Python 3",
   "language": "python",
   "name": "python3"
  },
  "language_info": {
   "codemirror_mode": {
    "name": "ipython",
    "version": 3
   },
   "file_extension": ".py",
   "mimetype": "text/x-python",
   "name": "python",
   "nbconvert_exporter": "python",
   "pygments_lexer": "ipython3",
   "version": "3.8.3"
  }
 },
 "nbformat": 4,
 "nbformat_minor": 5
}
